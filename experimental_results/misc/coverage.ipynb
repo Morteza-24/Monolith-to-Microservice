{
 "cells": [
  {
   "cell_type": "code",
   "execution_count": 43,
   "id": "f60747e2",
   "metadata": {},
   "outputs": [],
   "source": [
    "from sklearn.preprocessing import MinMaxScaler\n",
    "import pandas as pd\n",
    "import subprocess\n",
    "import json\n",
    "import os"
   ]
  },
  {
   "cell_type": "code",
   "execution_count": 44,
   "id": "1004d955",
   "metadata": {},
   "outputs": [
    {
     "data": {
      "text/plain": [
       "{'JPetStore': 73, 'DayTrader': 108, 'AcmeAir': 68, 'Plants': 37}"
      ]
     },
     "execution_count": 44,
     "metadata": {},
     "output_type": "execute_result"
    }
   ],
   "source": [
    "size = {}\n",
    "projects = [\"JPetStore\", \"DayTrader\", \"AcmeAir\", \"Plants\"]\n",
    "libs = \"../Mo2oM/JavaParser/lib/javaparser-core-3.25.5-SNAPSHOT.jar\"+os.pathsep+\"../Mo2oM/JavaParser/lib/json-20230618.jar\"\n",
    "for proj in projects:\n",
    "\tjson_path = f\"../.data/{proj}.json\"\n",
    "\tsubprocess.run(['java', '-cp', libs, '../Mo2oM/JavaParser/Parser.java', f\"../test_projects/{proj}/OneFileSource.java\", json_path])\n",
    "\twith open(json_path, \"rt\") as classes_file:\n",
    "\t\tclasses_info = json.load(classes_file)\n",
    "\tsize[proj] = len(classes_info)\n",
    "size"
   ]
  },
  {
   "cell_type": "code",
   "execution_count": 108,
   "id": "399ceebe",
   "metadata": {},
   "outputs": [],
   "source": [
    "results = [\n",
    "\t{\"Dataset\": \"JPetStore\", \"Model\": \"MEM\", \"Coverage\": 18/37},\n",
    "\t{\"Dataset\": \"DayTrader\", \"Model\": \"MEM\", \"Coverage\": 36/74},\n",
    "\t{\"Dataset\": \"AcmeAir\", \"Model\": \"MEM\", \"Coverage\": 13/28},\n",
    "\t{\"Dataset\": \"Plants\", \"Model\": \"MEM\", \"Coverage\": 9/26}\n",
    "]"
   ]
  },
  {
   "cell_type": "code",
   "execution_count": 109,
   "id": "f87d4364",
   "metadata": {},
   "outputs": [],
   "source": [
    "for proj in projects:\n",
    "\twith open(f\"results/HDBSCAN/HDBSCAN_{proj}.json\") as f:\n",
    "\t\tdata = json.load(f)\n",
    "\tdf = pd.DataFrame(data)\n",
    "\tdf[\"cov\"] = df[\"microservices\"].apply(lambda x: len([_ for _ in x if _!=[-1]]))\n",
    "\tresults.append({\"Dataset\": proj, \"Model\": \"HDBSCAN\", \"Coverage\": df[\"cov\"].median()/size[proj]})"
   ]
  },
  {
   "cell_type": "code",
   "execution_count": 110,
   "id": "3d529d91",
   "metadata": {},
   "outputs": [],
   "source": [
    "for proj in projects:\n",
    "\twith open(f\"results/Mo2oM/Mo2oM_{proj}.json\") as f:\n",
    "\t\tdata = json.load(f)\n",
    "\tdf = pd.DataFrame(data)\n",
    "\tdf_no_ms = df.drop(columns=\"microservices\")\n",
    "\tnormalized_df = pd.DataFrame(MinMaxScaler().fit_transform(df_no_ms.values), columns=df_no_ms.columns)\n",
    "\tdf['score'] = normalized_df[\"SM\"] - normalized_df[\"ICP\"] - normalized_df[\"IFN\"] - normalized_df[\"NED\"]\n",
    "\tfinal_df = pd.DataFrame(columns=[\"n_clusters\", \"microservices\"]).astype(dtype=df.drop(columns=[\"alpha\", \"threshold\", \"score\", \"SM\", \"ICP\", \"IFN\", \"NED\"]).dtypes)\n",
    "\tfor n in df[\"n_clusters\"].unique():\n",
    "\t\tidx = df[\"score\"][df[\"n_clusters\"] == n].argmax()\n",
    "\t\trow = df[df[\"n_clusters\"] == n].iloc[[idx]].drop(columns=[\"alpha\", \"threshold\", \"score\", \"SM\", \"ICP\", \"IFN\", \"NED\"])\n",
    "\t\tfinal_df = pd.concat([final_df, row])\n",
    "\tdf = final_df.reset_index(drop=True).drop(columns=[\"n_clusters\"])\n",
    "\tdf[\"cov\"] = df[\"microservices\"].apply(lambda x: len([_ for _ in x if _!=[-1]]))\n",
    "\tresults.append({\"Dataset\": proj, \"Model\": \"Mo2oM\", \"Coverage\": df[\"cov\"].median()/size[proj]})"
   ]
  },
  {
   "cell_type": "code",
   "execution_count": 114,
   "id": "92a65fb3",
   "metadata": {},
   "outputs": [
    {
     "data": {
      "text/html": [
       "<div>\n",
       "<style scoped>\n",
       "    .dataframe tbody tr th:only-of-type {\n",
       "        vertical-align: middle;\n",
       "    }\n",
       "\n",
       "    .dataframe tbody tr th {\n",
       "        vertical-align: top;\n",
       "    }\n",
       "\n",
       "    .dataframe thead th {\n",
       "        text-align: right;\n",
       "    }\n",
       "</style>\n",
       "<table border=\"1\" class=\"dataframe\">\n",
       "  <thead>\n",
       "    <tr style=\"text-align: right;\">\n",
       "      <th></th>\n",
       "      <th></th>\n",
       "      <th>Coverage</th>\n",
       "    </tr>\n",
       "    <tr>\n",
       "      <th>Dataset</th>\n",
       "      <th>Model</th>\n",
       "      <th></th>\n",
       "    </tr>\n",
       "  </thead>\n",
       "  <tbody>\n",
       "    <tr>\n",
       "      <th rowspan=\"3\" valign=\"top\">JPetStore</th>\n",
       "      <th>MEM</th>\n",
       "      <td>0.486486</td>\n",
       "    </tr>\n",
       "    <tr>\n",
       "      <th>HDBSCAN</th>\n",
       "      <td>0.821918</td>\n",
       "    </tr>\n",
       "    <tr>\n",
       "      <th>Mo2oM</th>\n",
       "      <td>0.602740</td>\n",
       "    </tr>\n",
       "    <tr>\n",
       "      <th rowspan=\"3\" valign=\"top\">DayTrader</th>\n",
       "      <th>MEM</th>\n",
       "      <td>0.486486</td>\n",
       "    </tr>\n",
       "    <tr>\n",
       "      <th>HDBSCAN</th>\n",
       "      <td>0.712963</td>\n",
       "    </tr>\n",
       "    <tr>\n",
       "      <th>Mo2oM</th>\n",
       "      <td>0.305556</td>\n",
       "    </tr>\n",
       "    <tr>\n",
       "      <th rowspan=\"3\" valign=\"top\">AcmeAir</th>\n",
       "      <th>MEM</th>\n",
       "      <td>0.464286</td>\n",
       "    </tr>\n",
       "    <tr>\n",
       "      <th>HDBSCAN</th>\n",
       "      <td>0.705882</td>\n",
       "    </tr>\n",
       "    <tr>\n",
       "      <th>Mo2oM</th>\n",
       "      <td>0.617647</td>\n",
       "    </tr>\n",
       "    <tr>\n",
       "      <th rowspan=\"3\" valign=\"top\">Plants</th>\n",
       "      <th>MEM</th>\n",
       "      <td>0.346154</td>\n",
       "    </tr>\n",
       "    <tr>\n",
       "      <th>HDBSCAN</th>\n",
       "      <td>0.702703</td>\n",
       "    </tr>\n",
       "    <tr>\n",
       "      <th>Mo2oM</th>\n",
       "      <td>0.891892</td>\n",
       "    </tr>\n",
       "  </tbody>\n",
       "</table>\n",
       "</div>"
      ],
      "text/plain": [
       "                   Coverage\n",
       "Dataset   Model            \n",
       "JPetStore MEM      0.486486\n",
       "          HDBSCAN  0.821918\n",
       "          Mo2oM    0.602740\n",
       "DayTrader MEM      0.486486\n",
       "          HDBSCAN  0.712963\n",
       "          Mo2oM    0.305556\n",
       "AcmeAir   MEM      0.464286\n",
       "          HDBSCAN  0.705882\n",
       "          Mo2oM    0.617647\n",
       "Plants    MEM      0.346154\n",
       "          HDBSCAN  0.702703\n",
       "          Mo2oM    0.891892"
      ]
     },
     "execution_count": 114,
     "metadata": {},
     "output_type": "execute_result"
    }
   ],
   "source": [
    "order = {\"JPetStore\": 0, \"DayTrader\": 1, \"AcmeAir\": 2, \"Plants\": 3}\n",
    "df = pd.DataFrame(results).sort_values(by=\"Dataset\", key=lambda x: [order[_] for _ in x])\n",
    "index = pd.MultiIndex.from_frame(df[[\"Dataset\", \"Model\"]])\n",
    "table = df.drop(columns=[\"Dataset\", \"Model\"]).set_index(index)\n",
    "table"
   ]
  },
  {
   "cell_type": "code",
   "execution_count": 121,
   "id": "784bb843",
   "metadata": {},
   "outputs": [
    {
     "name": "stdout",
     "output_type": "stream",
     "text": [
      "\\begin{table}\n",
      "\\caption{Coverage}\n",
      "\\centering\n",
      "\\begin{tabular}{llr}\n",
      "\\toprule\n",
      " &  & Coverage \\\\\n",
      "Dataset & Model &  \\\\\n",
      "\\midrule\n",
      "\\multirow[c]{3}{*}{JPetStore} & MEM & 0.486 \\\\\n",
      " & HDBSCAN & 0.822 \\\\\n",
      " & Mo2oM & 0.603 \\\\\n",
      "\\midrule\n",
      "\\multirow[c]{3}{*}{DayTrader} & MEM & 0.486 \\\\\n",
      " & HDBSCAN & 0.713 \\\\\n",
      " & Mo2oM & 0.306 \\\\\n",
      "\\midrule\n",
      "\\multirow[c]{3}{*}{AcmeAir} & MEM & 0.464 \\\\\n",
      " & HDBSCAN & 0.706 \\\\\n",
      " & Mo2oM & 0.618 \\\\\n",
      "\\midrule\n",
      "\\multirow[c]{3}{*}{Plants} & MEM & 0.346 \\\\\n",
      " & HDBSCAN & 0.703 \\\\\n",
      " & Mo2oM & 0.892 \\\\\n",
      "\\midrule\n",
      "\\bottomrule\n",
      "\\end{tabular}\n",
      "\\end{table}\n",
      "\n"
     ]
    }
   ],
   "source": [
    "print(table.to_latex(float_format=\"%.3f\", caption=\"Coverage\").replace(r\"\\cline{1-3}\", r\"\\midrule\").replace(\"[t]\", \"[c]\").replace(\"\\\\caption{Coverage}\\n\", \"\\\\caption{Coverage}\\n\\\\centering\\n\"))"
   ]
  },
  {
   "cell_type": "code",
   "execution_count": null,
   "id": "5fb5475a",
   "metadata": {},
   "outputs": [],
   "source": []
  }
 ],
 "metadata": {
  "kernelspec": {
   "display_name": "vnv",
   "language": "python",
   "name": "python3"
  },
  "language_info": {
   "codemirror_mode": {
    "name": "ipython",
    "version": 3
   },
   "file_extension": ".py",
   "mimetype": "text/x-python",
   "name": "python",
   "nbconvert_exporter": "python",
   "pygments_lexer": "ipython3",
   "version": "3.13.3"
  }
 },
 "nbformat": 4,
 "nbformat_minor": 5
}
