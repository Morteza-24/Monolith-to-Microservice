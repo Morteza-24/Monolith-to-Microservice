{
 "cells": [
  {
   "cell_type": "code",
   "execution_count": 5,
   "metadata": {},
   "outputs": [],
   "source": [
    "from sklearn.preprocessing import MinMaxScaler\n",
    "import pandas as pd\n",
    "import json"
   ]
  },
  {
   "cell_type": "code",
   "execution_count": null,
   "metadata": {},
   "outputs": [],
   "source": [
    "projects = [\"JPetStore\", \"DayTrader\", \"AcmeAir\", \"Plants\"]\n",
    "method = \"Mo2oM\"\n",
    "t_range = [0.05, 0.25]\n",
    "\n",
    "for project in projects:\n",
    "\twith open(f\"../results/{method}/{method}_{project}.json\", \"r\") as f:\n",
    "\t\tdata = json.load(f)\n",
    "\tdf = pd.DataFrame(data).drop([\"microservices\", \"n_clusters\"], axis=1)\n",
    "\tdf = df[df[\"threshold\"].between(t_range[0], t_range[1])]\n",
    "\tdf = df.drop(columns=[\"threshold\"], axis=1)\n",
    "\tdf = df.groupby(\"alpha\", as_index=False).median()\n",
    "\tnormalized_df = pd.DataFrame(MinMaxScaler().fit_transform(df.values), columns=df.columns)\n",
    "\tdf['normalized_sum'] = normalized_df[\"SM\"] - normalized_df[\"ICP\"] - normalized_df[\"IFN\"] - normalized_df[\"NED\"]\n",
    "\tdf.to_csv(f\"{project}_with_normalized_sum.csv\", index=False)"
   ]
  },
  {
   "cell_type": "code",
   "execution_count": null,
   "metadata": {},
   "outputs": [],
   "source": []
  }
 ],
 "metadata": {
  "kernelspec": {
   "display_name": "vnv",
   "language": "python",
   "name": "python3"
  },
  "language_info": {
   "codemirror_mode": {
    "name": "ipython",
    "version": 3
   },
   "file_extension": ".py",
   "mimetype": "text/x-python",
   "name": "python",
   "nbconvert_exporter": "python",
   "pygments_lexer": "ipython3",
   "version": "3.13.3"
  }
 },
 "nbformat": 4,
 "nbformat_minor": 2
}
