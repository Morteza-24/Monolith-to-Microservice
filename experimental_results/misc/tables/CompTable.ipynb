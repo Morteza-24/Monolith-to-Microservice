{
 "cells": [
  {
   "cell_type": "code",
   "execution_count": 1,
   "metadata": {},
   "outputs": [],
   "source": [
    "import pandas as pd\n",
    "import json"
   ]
  },
  {
   "cell_type": "code",
   "execution_count": 2,
   "metadata": {},
   "outputs": [],
   "source": [
    "results = {}\n",
    "projects = [\"JPetStore\", \"DayTrader\", \"AcmeAir\", \"Plants\"]\n",
    "methods = [\"Mo2oM\", \"HDBSCAN\", \"CoGCN\", \"Mono2Micro\", \"FoSCI\", \"MEM\", \"Bunch\"]\n",
    "metrics = [\"SM\", \"ICP\", \"IFN\", \"NED\"]\n",
    "metrics_sign = {\"SM\": 1, \"ICP\": -1, \"IFN\": -1, \"NED\": -1}\n",
    "for project in projects:\n",
    "\tresults[project] = {}\n",
    "\tfor method in methods:\n",
    "\t\tresults[project][method] = {}\n",
    "\t\twith open(f\"../results/{method}/{method}_{project}.json\", \"r\") as f:\n",
    "\t\t\tdata = json.load(f)\n",
    "\t\t\tdf = pd.DataFrame(data)\n",
    "\t\t\tfor metric in metrics:\n",
    "\t\t\t\t\tresults[project][method][metric] = df[metric].median()"
   ]
  },
  {
   "cell_type": "code",
   "execution_count": 3,
   "metadata": {},
   "outputs": [],
   "source": [
    "bests = []\n",
    "for project in results:\n",
    "\tfor metric in metrics:\n",
    "\t\tbest_method = None\n",
    "\t\tbest_metric = float('-inf') * metrics_sign[metric]\n",
    "\t\tfor method in methods:\n",
    "\t\t\tif metrics_sign[metric] == 1:\n",
    "\t\t\t\tif results[project][method][metric] > best_metric:\n",
    "\t\t\t\t\tbest_metric = results[project][method][metric]\n",
    "\t\t\t\t\tbest_method = method\n",
    "\t\t\telse:\n",
    "\t\t\t\tif results[project][method][metric] < best_metric:\n",
    "\t\t\t\t\tbest_metric = results[project][method][metric]\n",
    "\t\t\t\t\tbest_method = method\n",
    "\t\tbests.append((project, metric, best_method))"
   ]
  },
  {
   "cell_type": "code",
   "execution_count": 4,
   "metadata": {},
   "outputs": [
    {
     "data": {
      "text/plain": [
       "[('JPetStore', 'SM', 'Mo2oM'),\n",
       " ('JPetStore', 'ICP', 'HDBSCAN'),\n",
       " ('JPetStore', 'IFN', 'Mo2oM'),\n",
       " ('JPetStore', 'NED', 'Bunch'),\n",
       " ('DayTrader', 'SM', 'HDBSCAN'),\n",
       " ('DayTrader', 'ICP', 'Mo2oM'),\n",
       " ('DayTrader', 'IFN', 'Mo2oM'),\n",
       " ('DayTrader', 'NED', 'Mono2Micro'),\n",
       " ('AcmeAir', 'SM', 'HDBSCAN'),\n",
       " ('AcmeAir', 'ICP', 'Mo2oM'),\n",
       " ('AcmeAir', 'IFN', 'Mo2oM'),\n",
       " ('AcmeAir', 'NED', 'Bunch'),\n",
       " ('Plants', 'SM', 'Mo2oM'),\n",
       " ('Plants', 'ICP', 'Mo2oM'),\n",
       " ('Plants', 'IFN', 'Mo2oM'),\n",
       " ('Plants', 'NED', 'Bunch')]"
      ]
     },
     "execution_count": 4,
     "metadata": {},
     "output_type": "execute_result"
    }
   ],
   "source": [
    "bests"
   ]
  },
  {
   "cell_type": "code",
   "execution_count": 5,
   "metadata": {},
   "outputs": [],
   "source": [
    "table_head = r'''\t\\begin{table}[ht]\n",
    "\t\t\\centering\n",
    "\t\t\\begin{tabular}{lcccccccccccccccccccc}\n",
    "\t\t\t\\hline\n",
    "\t\t\t& \\multicolumn{16}{c}{\\textbf{Projects}} \\\\\n",
    "\t\t\t\\cline{2-17}\n",
    "\t\t\t& \\multicolumn{4}{c}{\\textbf{JPetStore}} & \\multicolumn{4}{c}{\\textbf{DayTrader}} & \\multicolumn{4}{c}{\\textbf{AcmeAir}} & \\multicolumn{4}{c}{\\textbf{Plants}} \\\\\n",
    "\t\t\t\\cline{2-17}\n",
    "\t\t\t\\textbf{Model} & \\textbf{SM} & \\textbf{ICP} & \\textbf{IFN} & \\textbf{NED} & \\textbf{SM} & \\textbf{ICP} & \\textbf{IFN} & \\textbf{NED} & \\textbf{SM} & \\textbf{ICP} & \\textbf{IFN} & \\textbf{NED} & \\textbf{SM} & \\textbf{ICP} & \\textbf{IFN} & \\textbf{NED} \\\\\n",
    "\t\t\t\\hline'''\n",
    "table_tail = r'''\t\t\\end{tabular}\n",
    "\t\\end{table}\n",
    "'''"
   ]
  },
  {
   "cell_type": "code",
   "execution_count": 6,
   "metadata": {},
   "outputs": [
    {
     "name": "stdout",
     "output_type": "stream",
     "text": [
      "\t\\begin{table}[ht]\n",
      "\t\t\\centering\n",
      "\t\t\\begin{tabular}{lcccccccccccccccccccc}\n",
      "\t\t\t\\hline\n",
      "\t\t\t& \\multicolumn{16}{c}{\\textbf{Projects}} \\\\\n",
      "\t\t\t\\cline{2-17}\n",
      "\t\t\t& \\multicolumn{4}{c}{\\textbf{JPetStore}} & \\multicolumn{4}{c}{\\textbf{DayTrader}} & \\multicolumn{4}{c}{\\textbf{AcmeAir}} & \\multicolumn{4}{c}{\\textbf{Plants}} \\\\\n",
      "\t\t\t\\cline{2-17}\n",
      "\t\t\t\\textbf{Model} & \\textbf{SM} & \\textbf{ICP} & \\textbf{IFN} & \\textbf{NED} & \\textbf{SM} & \\textbf{ICP} & \\textbf{IFN} & \\textbf{NED} & \\textbf{SM} & \\textbf{ICP} & \\textbf{IFN} & \\textbf{NED} & \\textbf{SM} & \\textbf{ICP} & \\textbf{IFN} & \\textbf{NED} \\\\\n",
      "\t\t\t\\hline\n",
      "Mo2oM & \\textbf{0.134} & 0.115 & \\textbf{0.115} & 0.513 & 0.330 & \\textbf{0.107} & \\textbf{0.222} & 0.644 & 0.148 & \\textbf{0.086} & \\textbf{0.081} & 0.323 & \\textbf{0.567} & \\textbf{0.096} & \\textbf{0.750} & 0.263\\\\\n",
      "HDBSCAN & 0.035 & \\textbf{0.037} & 3.000 & 1.000 & \\textbf{0.498} & 0.424 & 1.375 & 0.922 & \\textbf{0.227} & 0.198 & 1.600 & 0.863 & 0.509 & 0.300 & 2.286 & 1.000\\\\\n",
      "CoGCN & 0.079 & 0.510 & 2.531 & 0.609 & 0.086 & 0.300 & 2.600 & 0.676 & 0.038 & 0.444 & 2.800 & 0.250 & 0.083 & 0.636 & 4.938 & 0.443\\\\\n",
      "Mono2Micro & 0.052 & 0.318 & 2.322 & 0.216 & 0.084 & 0.346 & 2.421 & \\textbf{0.338} & 0.072 & 0.527 & 3.625 & 0.429 & 0.078 & 0.381 & 6.000 & 0.038\\\\\n",
      "FoSCI & 0.050 & 0.398 & 3.792 & 0.515 & 0.094 & 0.725 & 5.053 & 0.705 & 0.095 & 0.706 & 4.375 & 0.407 & 0.115 & 0.699 & 4.938 & 0.653\\\\\n",
      "MEM & 0.121 & 0.434 & 3.429 & 1.000 & 0.089 & 0.355 & 3.357 & 1.000 & 0.097 & 0.589 & 4.333 & 0.464 & 0.210 & 0.320 & 4.750 & 0.288\\\\\n",
      "Bunch & 0.111 & 0.264 & 4.250 & \\textbf{0.000} & 0.121 & 0.425 & 10.400 & 0.639 & 0.044 & 0.330 & 7.333 & \\textbf{0.154} & 0.096 & 0.443 & 7.667 & \\textbf{0.000}\\\\\n",
      "\t\t\\end{tabular}\n",
      "\t\\end{table}\n",
      "\n"
     ]
    }
   ],
   "source": [
    "print(table_head)\n",
    "for method in methods:\n",
    "\tline = method\n",
    "\tfor project in projects:\n",
    "\t\tfor metric in metrics:\n",
    "\t\t\tif (project, metric, method) in bests:\n",
    "\t\t\t\tline += f\" & \\\\textbf{{{results[project][method][metric]:.3f}}}\"\n",
    "\t\t\telse:\n",
    "\t\t\t\tline += f\" & {results[project][method][metric]:.3f}\"\n",
    "\tline += r\"\\\\\"\n",
    "\tprint(line)\n",
    "print(table_tail)"
   ]
  },
  {
   "cell_type": "code",
   "execution_count": null,
   "metadata": {},
   "outputs": [],
   "source": []
  }
 ],
 "metadata": {
  "kernelspec": {
   "display_name": "vnv",
   "language": "python",
   "name": "python3"
  },
  "language_info": {
   "codemirror_mode": {
    "name": "ipython",
    "version": 3
   },
   "file_extension": ".py",
   "mimetype": "text/x-python",
   "name": "python",
   "nbconvert_exporter": "python",
   "pygments_lexer": "ipython3",
   "version": "3.13.3"
  }
 },
 "nbformat": 4,
 "nbformat_minor": 2
}
