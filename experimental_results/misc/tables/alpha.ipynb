{
 "cells": [
  {
   "cell_type": "code",
   "execution_count": 43,
   "metadata": {},
   "outputs": [],
   "source": [
    "import pandas as pd\n",
    "import json"
   ]
  },
  {
   "cell_type": "code",
   "execution_count": null,
   "metadata": {},
   "outputs": [],
   "source": [
    "results = {}\n",
    "project = \"Plants\"\n",
    "method = \"Mo2oM\"\n",
    "t_range = [0.05, 0.25]\n",
    "metrics = [\"SM\", \"ICP\", \"IFN\", \"NED\"]\n",
    "metrics_sign = {\"SM\": 1, \"ICP\": -1, \"IFN\": -1, \"NED\": -1}\n",
    "alphas = [0, 0.05, 0.1, 0.15, 0.2, 0.25, 0.3, 0.35, 0.4, 0.45, 0.5, 0.55, 0.6, 0.65, 0.7, 0.75, 0.8, 0.85, 0.9, 0.95, 1]\n",
    "\n",
    "for alpha in alphas:\n",
    "\tresults[alpha] = {}\n",
    "\twith open(f\"../results/{method}/{method}_{project}.json\", \"r\") as f:\n",
    "\t\tdata = json.load(f)\n",
    "\tdf = pd.DataFrame(data).drop([\"microservices\", \"n_clusters\"], axis=1)\n",
    "\tdf = df[df[\"alpha\"] == alpha]\n",
    "\tdf = df[df[\"threshold\"].between(t_range[0], t_range[1])]\n",
    "\tfor metric in metrics:\n",
    "\t\t\t# if metrics_sign[metric] == 1:\n",
    "\t\t\t# \tresults[project][alpha][metric] = df[metric].max()\n",
    "\t\t\t# else:\n",
    "\t\t\t# \tresults[project][alpha][metric] = df[metric].min()\n",
    "\t\t\tresults[alpha][metric] = df[metric].median()"
   ]
  },
  {
   "cell_type": "code",
   "execution_count": 45,
   "metadata": {},
   "outputs": [],
   "source": [
    "bests = {}\n",
    "for metric in metrics:\n",
    "\tbest_alpha = None\n",
    "\tbest_metric = float('-inf') * metrics_sign[metric]\n",
    "\tfor alpha in alphas:\n",
    "\t\tif metrics_sign[metric] == 1:\n",
    "\t\t\tif results[alpha][metric] > best_metric:\n",
    "\t\t\t\tbest_metric = results[alpha][metric]\n",
    "\t\t\t\tbest_alpha = alpha\n",
    "\t\telse:\n",
    "\t\t\tif results[alpha][metric] < best_metric:\n",
    "\t\t\t\tbest_metric = results[alpha][metric]\n",
    "\t\t\t\tbest_alpha = alpha\n",
    "\tbests[metric] = best_alpha"
   ]
  },
  {
   "cell_type": "code",
   "execution_count": 46,
   "metadata": {},
   "outputs": [
    {
     "data": {
      "text/plain": [
       "{'SM': 0.95, 'ICP': 0.5, 'IFN': 0.55, 'NED': 0.95}"
      ]
     },
     "execution_count": 46,
     "metadata": {},
     "output_type": "execute_result"
    }
   ],
   "source": [
    "bests"
   ]
  },
  {
   "cell_type": "code",
   "execution_count": 47,
   "metadata": {},
   "outputs": [],
   "source": [
    "table_head = r'''\t\\begin{table}[h!]\n",
    "\t\t\\centering\n",
    "\t\t\\begin{tabular}{|c|c|c|c|c|}\n",
    "\t\t\t\\hline\n",
    "\t\t\t\\textbf{Alpha} & \\textbf{SM $\\uparrow$} & \\textbf{ICP $\\downarrow$} & \\textbf{IFN $\\downarrow$} & \\textbf{NED $\\downarrow$} \\\\\n",
    "\t\t\t\\hline'''\n",
    "table_tail = r'''\t\t\t\\hline\n",
    "\t\t\\end{tabular}\n",
    "\t\t\\caption{ project }\n",
    "\t\\end{table}'''"
   ]
  },
  {
   "cell_type": "code",
   "execution_count": 48,
   "metadata": {},
   "outputs": [
    {
     "name": "stdout",
     "output_type": "stream",
     "text": [
      "\t\\begin{table}[h!]\n",
      "\t\t\\centering\n",
      "\t\t\\begin{tabular}{|c|c|c|c|c|}\n",
      "\t\t\t\\hline\n",
      "\t\t\t\\textbf{Alpha} & \\textbf{SM $\\uparrow$} & \\textbf{ICP $\\downarrow$} & \\textbf{IFN $\\downarrow$} & \\textbf{NED $\\downarrow$} \\\\\n",
      "\t\t\t\\hline\n",
      "\t\t\t\\textbf{\\underline{0}} & 0.471 & 0.111 & 1.000 & 0.375\\\\\n",
      "\t\t\t\\textbf{\\underline{0.05}} & 0.457 & 0.107 & 1.042 & 0.372\\\\\n",
      "\t\t\t\\textbf{\\underline{0.1}} & 0.460 & 0.106 & 0.875 & 0.335\\\\\n",
      "\t\t\t\\textbf{\\underline{0.15}} & 0.491 & 0.102 & 0.917 & 0.324\\\\\n",
      "\t\t\t\\textbf{\\underline{0.2}} & 0.488 & 0.104 & 0.917 & 0.348\\\\\n",
      "\t\t\t\\textbf{\\underline{0.25}} & 0.494 & 0.103 & 0.867 & 0.392\\\\\n",
      "\t\t\t\\textbf{\\underline{0.3}} & 0.502 & 0.088 & 0.775 & 0.461\\\\\n",
      "\t\t\t\\textbf{\\underline{0.35}} & 0.509 & 0.069 & 0.708 & 0.526\\\\\n",
      "\t\t\t\\textbf{\\underline{0.4}} & 0.509 & 0.070 & 0.725 & 0.407\\\\\n",
      "\t\t\t\\textbf{\\underline{0.45}} & 0.516 & 0.067 & 0.542 & 0.353\\\\\n",
      "\t\t\t\\textbf{\\underline{0.5}} & 0.531 & \\textbf{0.065} & 0.542 & 0.361\\\\\n",
      "\t\t\t\\textbf{\\underline{0.55}} & 0.534 & 0.079 & \\textbf{0.500} & 0.372\\\\\n",
      "\t\t\t\\textbf{\\underline{0.6}} & 0.551 & 0.080 & 0.500 & 0.354\\\\\n",
      "\t\t\t\\textbf{\\underline{0.65}} & 0.535 & 0.076 & 0.688 & 0.337\\\\\n",
      "\t\t\t\\textbf{\\underline{0.7}} & 0.531 & 0.080 & 0.750 & 0.355\\\\\n",
      "\t\t\t\\textbf{\\underline{0.75}} & 0.530 & 0.092 & 0.812 & 0.293\\\\\n",
      "\t\t\t\\textbf{\\underline{0.8}} & 0.489 & 0.089 & 1.113 & 0.222\\\\\n",
      "\t\t\t\\textbf{\\underline{0.85}} & 0.534 & 0.087 & 1.083 & 0.205\\\\\n",
      "\t\t\t\\textbf{\\underline{0.9}} & 0.538 & 0.087 & 1.250 & 0.257\\\\\n",
      "\t\t\t\\textbf{\\underline{0.95}} & \\textbf{0.592} & 0.088 & 1.312 & \\textbf{0.191}\\\\\n",
      "\t\t\t\\textbf{\\underline{1}} & 0.564 & 0.088 & 1.233 & 0.213\\\\\n",
      "\t\t\t\\hline\n",
      "\t\t\\end{tabular}\n",
      "\t\t\\caption{ Plants }\n",
      "\t\\end{table}\n"
     ]
    }
   ],
   "source": [
    "print(table_head)\n",
    "for alpha in alphas:\n",
    "\tline = \"\t\"*3 + r\"\\textbf{\\underline{\" + str(alpha) + \"}}\"\n",
    "\tfor metric in metrics:\n",
    "\t\tif bests[metric] == alpha:\n",
    "\t\t\tline += f\" & \\\\textbf{{{results[alpha][metric]:.3f}}}\"\n",
    "\t\telse:\n",
    "\t\t\tline += f\" & {results[alpha][metric]:.3f}\"\n",
    "\tline += r\"\\\\\"\n",
    "\tprint(line)\n",
    "print(table_tail.replace(\"project\", project))"
   ]
  },
  {
   "cell_type": "code",
   "execution_count": null,
   "metadata": {},
   "outputs": [],
   "source": []
  }
 ],
 "metadata": {
  "kernelspec": {
   "display_name": "vnv",
   "language": "python",
   "name": "python3"
  },
  "language_info": {
   "codemirror_mode": {
    "name": "ipython",
    "version": 3
   },
   "file_extension": ".py",
   "mimetype": "text/x-python",
   "name": "python",
   "nbconvert_exporter": "python",
   "pygments_lexer": "ipython3",
   "version": "3.13.3"
  }
 },
 "nbformat": 4,
 "nbformat_minor": 2
}
