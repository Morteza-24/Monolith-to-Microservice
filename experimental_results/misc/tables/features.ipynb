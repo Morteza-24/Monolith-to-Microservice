{
 "cells": [
  {
   "cell_type": "code",
   "execution_count": 59,
   "metadata": {},
   "outputs": [],
   "source": [
    "import pandas as pd\n",
    "import json"
   ]
  },
  {
   "cell_type": "code",
   "execution_count": 60,
   "metadata": {},
   "outputs": [],
   "source": [
    "results = {}\n",
    "project = \"Plants\"\n",
    "methods = [\"Mo2oM_Structural\", \"Mo2oM_UniXcoder\", \"Mo2oM_Combined\"]\n",
    "t_range = {\"Mo2oM_Structural\": [0.15, 0.20], \"Mo2oM_UniXcoder\": [0.10, 0.25], \"Mo2oM_Combined\": [0.05, 0.20]}\n",
    "metrics = [\"SM\", \"ICP\", \"IFN\", \"NED\"]\n",
    "metrics_sign = {\"SM\": 1, \"ICP\": -1, \"IFN\": -1, \"NED\": -1}\n",
    "\n",
    "for method in methods:\n",
    "\tresults[method] = {}\n",
    "\twith open(f\"../results/{method}/{method}_{project}.json\", \"r\") as f:\n",
    "\t\tdata = json.load(f)\n",
    "\t\tdf = pd.DataFrame(data).drop([\"microservices\", \"n_clusters\"], axis=1)\n",
    "\t\tdf = df[df[\"threshold\"].between(t_range[method][0], t_range[method][1])]\n",
    "\t\tfor metric in metrics:\n",
    "\t\t\t\t# if metrics_sign[metric] == 1:\n",
    "\t\t\t\t# \tresults[project][method][metric] = df[metric].max()\n",
    "\t\t\t\t# else:\n",
    "\t\t\t\t# \tresults[project][method][metric] = df[metric].min()\n",
    "\t\t\t\tresults[method][metric] = df[metric].median()"
   ]
  },
  {
   "cell_type": "code",
   "execution_count": 61,
   "metadata": {},
   "outputs": [],
   "source": [
    "bests = {}\n",
    "for metric in metrics:\n",
    "\tbest_method = None\n",
    "\tbest_metric = float('-inf') * metrics_sign[metric]\n",
    "\tfor method in methods:\n",
    "\t\tif metrics_sign[metric] == 1:\n",
    "\t\t\tif results[method][metric] > best_metric:\n",
    "\t\t\t\tbest_metric = results[method][metric]\n",
    "\t\t\t\tbest_method = method\n",
    "\t\telse:\n",
    "\t\t\tif results[method][metric] < best_metric:\n",
    "\t\t\t\tbest_metric = results[method][metric]\n",
    "\t\t\t\tbest_method = method\n",
    "\tbests[metric] = best_method"
   ]
  },
  {
   "cell_type": "code",
   "execution_count": 62,
   "metadata": {},
   "outputs": [
    {
     "data": {
      "text/plain": [
       "{'SM': 'Mo2oM_Combined',\n",
       " 'ICP': 'Mo2oM_Combined',\n",
       " 'IFN': 'Mo2oM_Combined',\n",
       " 'NED': 'Mo2oM_UniXcoder'}"
      ]
     },
     "execution_count": 62,
     "metadata": {},
     "output_type": "execute_result"
    }
   ],
   "source": [
    "bests"
   ]
  },
  {
   "cell_type": "code",
   "execution_count": 63,
   "metadata": {},
   "outputs": [],
   "source": [
    "table_head = r'''\t\\begin{table}[ht]\n",
    "\t\t\\centering\n",
    "\t\t\\begin{tabular}{|l|c|c|c|c|}\n",
    "\t\t\t\\hline\n",
    "\t\t\t\\textbf{Features} & \\textbf{SM $\\uparrow$} & \\textbf{ICP $\\downarrow$} & \\textbf{IFN $\\downarrow$} & \\textbf{NED $\\downarrow$} \\\\\n",
    "\t\t\t\\hline'''\n",
    "table_tail = r'''\t\t\t\\hline\n",
    "\t\t\\end{tabular}\n",
    "\t\t\\caption{ project }\n",
    "\t\\end{table}'''"
   ]
  },
  {
   "cell_type": "code",
   "execution_count": 64,
   "metadata": {},
   "outputs": [
    {
     "name": "stdout",
     "output_type": "stream",
     "text": [
      "\t\\begin{table}[ht]\n",
      "\t\t\\centering\n",
      "\t\t\\begin{tabular}{|l|c|c|c|c|}\n",
      "\t\t\t\\hline\n",
      "\t\t\t\\textbf{Features} & \\textbf{SM $\\uparrow$} & \\textbf{ICP $\\downarrow$} & \\textbf{IFN $\\downarrow$} & \\textbf{NED $\\downarrow$} \\\\\n",
      "\t\t\t\\hline\n",
      "\t\t\tStructural & 0.371 & 0.098 & 0.938 & 0.427\\\\\n",
      "\t\t\tUniXcoder & 0.449 & 0.101 & 1.275 & \\textbf{0.286}\\\\\n",
      "\t\t\tCombined & \\textbf{0.532} & \\textbf{0.056} & \\textbf{0.417} & 0.509\\\\\n",
      "\t\t\t\\hline\n",
      "\t\t\\end{tabular}\n",
      "\t\t\\caption{ Plants }\n",
      "\t\\end{table}\n"
     ]
    }
   ],
   "source": [
    "print(table_head)\n",
    "for method in methods:\n",
    "\tline = \"\t\"*3 + method.replace(\"Mo2oM_\", \"\")\n",
    "\tfor metric in metrics:\n",
    "\t\tif bests[metric] == method:\n",
    "\t\t\tline += f\" & \\\\textbf{{{results[method][metric]:.3f}}}\"\n",
    "\t\telse:\n",
    "\t\t\tline += f\" & {results[method][metric]:.3f}\"\n",
    "\tline += r\"\\\\\"\n",
    "\tprint(line)\n",
    "print(table_tail.replace(\"project\", project))"
   ]
  },
  {
   "cell_type": "code",
   "execution_count": null,
   "metadata": {},
   "outputs": [],
   "source": []
  }
 ],
 "metadata": {
  "kernelspec": {
   "display_name": "vnv",
   "language": "python",
   "name": "python3"
  },
  "language_info": {
   "codemirror_mode": {
    "name": "ipython",
    "version": 3
   },
   "file_extension": ".py",
   "mimetype": "text/x-python",
   "name": "python",
   "nbconvert_exporter": "python",
   "pygments_lexer": "ipython3",
   "version": "3.13.3"
  }
 },
 "nbformat": 4,
 "nbformat_minor": 2
}
