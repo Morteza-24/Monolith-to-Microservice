{
 "cells": [
  {
   "cell_type": "code",
   "execution_count": 7,
   "metadata": {},
   "outputs": [],
   "source": [
    "import pandas as pd\n",
    "import json"
   ]
  },
  {
   "cell_type": "code",
   "execution_count": 8,
   "metadata": {},
   "outputs": [],
   "source": [
    "sims = [\"unixcoder\", \"structural\", \"combined\"]\n",
    "metrics = [\"SM\", \"ICP\", \"IFN\", \"NED\"]\n",
    "metrics_sign = {\"SM\": 1, \"ICP\": -1, \"IFN\": -1, \"NED\": -1}\n",
    "cluster_sizes = [10, 18, 28]\n",
    "results = {}\n",
    "\n",
    "for method in sims:\n",
    "\tresults[method] = {}\n",
    "\twith open(f\"../results/Sim/jpetstore_{method}_features.json\", \"r\") as f:\n",
    "\t\tdata = json.load(f)\n",
    "\tdf = pd.DataFrame(data).drop([\"microservices\"], axis=1)\n",
    "\tfor n_clusters in cluster_sizes:\n",
    "\t\tresults[method][n_clusters] = {}\n",
    "\t\tndf = df[df[\"n_clusters\"] == n_clusters]\n",
    "\t\tfor metric in metrics:\n",
    "\t\t\tresults[method][n_clusters][metric] = ndf[metric].mean()"
   ]
  },
  {
   "cell_type": "code",
   "execution_count": 9,
   "metadata": {},
   "outputs": [],
   "source": [
    "bests = []\n",
    "for n_clusters in cluster_sizes:\n",
    "\tfor metric in metrics:\n",
    "\t\tbest_method = None\n",
    "\t\tbest_metric = float('-inf') * metrics_sign[metric]\n",
    "\t\tfor method in sims:\n",
    "\t\t\tif metrics_sign[metric] == 1:\n",
    "\t\t\t\tif results[method][n_clusters][metric] > best_metric:\n",
    "\t\t\t\t\tbest_metric = results[method][n_clusters][metric]\n",
    "\t\t\t\t\tbest_method = method\n",
    "\t\t\telse:\n",
    "\t\t\t\tif results[method][n_clusters][metric] < best_metric:\n",
    "\t\t\t\t\tbest_metric = results[method][n_clusters][metric]\n",
    "\t\t\t\t\tbest_method = method\n",
    "\t\tbests.append((n_clusters, metric, best_method))"
   ]
  },
  {
   "cell_type": "code",
   "execution_count": 10,
   "metadata": {},
   "outputs": [
    {
     "data": {
      "text/plain": [
       "[(10, 'SM', 'unixcoder'),\n",
       " (10, 'ICP', 'combined'),\n",
       " (10, 'IFN', 'combined'),\n",
       " (10, 'NED', 'unixcoder'),\n",
       " (18, 'SM', 'structural'),\n",
       " (18, 'ICP', 'combined'),\n",
       " (18, 'IFN', 'combined'),\n",
       " (18, 'NED', 'unixcoder'),\n",
       " (28, 'SM', 'structural'),\n",
       " (28, 'ICP', 'combined'),\n",
       " (28, 'IFN', 'combined'),\n",
       " (28, 'NED', 'unixcoder')]"
      ]
     },
     "execution_count": 10,
     "metadata": {},
     "output_type": "execute_result"
    }
   ],
   "source": [
    "bests"
   ]
  },
  {
   "cell_type": "code",
   "execution_count": null,
   "metadata": {},
   "outputs": [],
   "source": [
    "table_head = r'''\t\\begin{table}[ht]\n",
    "\t\t\\centering\n",
    "\t\t\\begin{tabular}{|l|ccc|ccc|ccc|ccc|}\n",
    "\t\t\t\\hline\n",
    "\t\t\t\\multirow{2}{*}{\\textbf{features}} & \\multicolumn{3}{c}{\\textbf{SM $\\uparrow$}} & \\multicolumn{3}{|c|}{\\textbf{ICP $\\downarrow$}} & \\multicolumn{3}{c|}{\\textbf{IFN $\\downarrow$}} & \\multicolumn{3}{c|}{\\textbf{NED $\\downarrow$}} \\\\\n",
    "%\t\t\t\\cline{2-13}\n",
    "\t\t\t& \\textbf{L} & \\textbf{M} & \\textbf{H} & \\textbf{L} & \\textbf{M} & \\textbf{H} & \\textbf{L} & \\textbf{M} & \\textbf{H} & \\textbf{L} & \\textbf{M} & \\textbf{H}\\\\\n",
    "\t\t\t\\hline'''\n",
    "table_tail = r'''\t\t\\hline\n",
    "\t\t\\end{tabular}\n",
    "\t\t\\caption{ JPetStore }\n",
    "\t\\end{table}'''"
   ]
  },
  {
   "cell_type": "code",
   "execution_count": 12,
   "metadata": {},
   "outputs": [
    {
     "name": "stdout",
     "output_type": "stream",
     "text": [
      "\t\\begin{table}[ht]\n",
      "\t\t\\centering\n",
      "\t\t\\begin{tabular}{|l|ccc|ccc|ccc|ccc|}\n",
      "\t\t\t\\hline\n",
      "\t\t\t\\multirow{2}{*}{\\textbf{features}} & \\multicolumn{3}{c}{\\textbf{SM $\\uparrow$}} & \\multicolumn{3}{|c|}{\\textbf{ICP $\\downarrow$}} & \\multicolumn{3}{c|}{\\textbf{IFN $\\uparrow$}} & \\multicolumn{3}{c|}{\\textbf{NED $\\downarrow$}} \\\\\n",
      "%\t\t\t\\cline{2-13}\n",
      "\t\t\t& \\textbf{L} & \\textbf{M} & \\textbf{H} & \\textbf{L} & \\textbf{M} & \\textbf{H} & \\textbf{L} & \\textbf{M} & \\textbf{H} & \\textbf{L} & \\textbf{M} & \\textbf{H}\\\\\n",
      "\t\t\t\\hline\n",
      "unixcoder & \\textbf{0.128} & 0.069 & 0.096 & 0.173 & 0.143 & 0.223 & 1.171 & 0.538 & 0.420 & \\textbf{0.562} & \\textbf{0.499} & \\textbf{0.667}\\\\\n",
      "structural & 0.055 & \\textbf{0.074} & \\textbf{0.117} & 0.214 & 0.132 & 0.223 & 0.858 & 0.624 & 0.454 & 0.764 & 0.697 & 0.720\\\\\n",
      "combined & 0.081 & 0.061 & 0.107 & \\textbf{0.149} & \\textbf{0.069} & \\textbf{0.107} & \\textbf{0.586} & \\textbf{0.429} & \\textbf{0.227} & 0.800 & 0.750 & 0.836\\\\\n",
      "\t\t\\hline\n",
      "\t\t\\end{tabular}\n",
      "\t\t\\caption{ JPetStore }\n",
      "\t\\end{table}\n"
     ]
    }
   ],
   "source": [
    "print(table_head)\n",
    "for method in sims:\n",
    "\tline = method\n",
    "\tfor metric in metrics:\n",
    "\t\tfor n_clusters in cluster_sizes:\n",
    "\t\t\tif (n_clusters, metric, method) in bests:\n",
    "\t\t\t\tline += f\" & \\\\textbf{{{results[method][n_clusters][metric]:.3f}}}\"\n",
    "\t\t\telse:\n",
    "\t\t\t\tline += f\" & {results[method][n_clusters][metric]:.3f}\"\n",
    "\tline += r\"\\\\\"\n",
    "\tprint(line)\n",
    "print(table_tail)"
   ]
  },
  {
   "cell_type": "code",
   "execution_count": null,
   "metadata": {},
   "outputs": [],
   "source": []
  }
 ],
 "metadata": {
  "kernelspec": {
   "display_name": "vnv",
   "language": "python",
   "name": "python3"
  },
  "language_info": {
   "codemirror_mode": {
    "name": "ipython",
    "version": 3
   },
   "file_extension": ".py",
   "mimetype": "text/x-python",
   "name": "python",
   "nbconvert_exporter": "python",
   "pygments_lexer": "ipython3",
   "version": "3.13.3"
  }
 },
 "nbformat": 4,
 "nbformat_minor": 2
}
