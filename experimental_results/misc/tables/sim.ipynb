{
 "cells": [
  {
   "cell_type": "code",
   "execution_count": 1,
   "metadata": {},
   "outputs": [],
   "source": [
    "from sklearn.preprocessing import normalize\n",
    "import pandas as pd\n",
    "import numpy as np\n",
    "import json"
   ]
  },
  {
   "cell_type": "code",
   "execution_count": 2,
   "metadata": {},
   "outputs": [],
   "source": [
    "sims = [\"unixcoder\", \"structural\", \"combined\"]\n",
    "metrics = [\"SM\", \"ICP\", \"IFN\", \"NED\"]\n",
    "metrics_sign = {\"SM\": 1, \"ICP\": -1, \"IFN\": -1, \"NED\": -1}\n",
    "cluster_sizes = [10, 18, 28]\n",
    "results = {}\n",
    "\n",
    "for method in sims:\n",
    "\tresults[method] = {}\n",
    "\twith open(f\"../results/Sim/jpetstore_{method}_features.json\", \"r\") as f:\n",
    "\t\tdata = json.load(f)\n",
    "\tdf = pd.DataFrame(data).drop([\"microservices\"], axis=1)\n",
    "\tfor n_clusters in cluster_sizes:\n",
    "\t\tresults[method][n_clusters] = {}\n",
    "\t\tndf = df[df[\"n_clusters\"] == n_clusters]\n",
    "\t\ts = normalize([ndf[\"SM\"].to_numpy()])\n",
    "\t\tfor metric in metrics[1:]:\n",
    "\t\t\ts -= normalize([ndf[metric].to_numpy()])\n",
    "\t\tidx = np.argmax(s)\n",
    "\t\tfor metric in metrics:\n",
    "\t\t\tresults[method][n_clusters][metric] = ndf[metric].iloc[idx]"
   ]
  },
  {
   "cell_type": "code",
   "execution_count": 3,
   "metadata": {},
   "outputs": [],
   "source": [
    "bests = []\n",
    "for n_clusters in cluster_sizes:\n",
    "\tfor metric in metrics:\n",
    "\t\tbest_method = None\n",
    "\t\tbest_metric = float('-inf') * metrics_sign[metric]\n",
    "\t\tfor method in sims:\n",
    "\t\t\tif metrics_sign[metric] == 1:\n",
    "\t\t\t\tif results[method][n_clusters][metric] > best_metric:\n",
    "\t\t\t\t\tbest_metric = results[method][n_clusters][metric]\n",
    "\t\t\t\t\tbest_method = method\n",
    "\t\t\telse:\n",
    "\t\t\t\tif results[method][n_clusters][metric] < best_metric:\n",
    "\t\t\t\t\tbest_metric = results[method][n_clusters][metric]\n",
    "\t\t\t\t\tbest_method = method\n",
    "\t\tbests.append((n_clusters, metric, best_method))"
   ]
  },
  {
   "cell_type": "code",
   "execution_count": 4,
   "metadata": {},
   "outputs": [
    {
     "data": {
      "text/plain": [
       "[(10, 'SM', 'combined'),\n",
       " (10, 'ICP', 'unixcoder'),\n",
       " (10, 'IFN', 'unixcoder'),\n",
       " (10, 'NED', 'unixcoder'),\n",
       " (18, 'SM', 'combined'),\n",
       " (18, 'ICP', 'unixcoder'),\n",
       " (18, 'IFN', 'structural'),\n",
       " (18, 'NED', 'unixcoder'),\n",
       " (28, 'SM', 'combined'),\n",
       " (28, 'ICP', 'structural'),\n",
       " (28, 'IFN', 'unixcoder'),\n",
       " (28, 'NED', 'unixcoder')]"
      ]
     },
     "execution_count": 4,
     "metadata": {},
     "output_type": "execute_result"
    }
   ],
   "source": [
    "bests"
   ]
  },
  {
   "cell_type": "code",
   "execution_count": null,
   "metadata": {},
   "outputs": [],
   "source": [
    "table_head = r'''\t\\begin{table}[ht]\n",
    "\t\t\\centering\n",
    "\t\t\\begin{tabular}{|l|ccc|ccc|ccc|ccc|}\n",
    "\t\t\t\\hline\n",
    "\t\t\t\\multirow{2}{*}{\\textbf{features}} & \\multicolumn{3}{c}{\\textbf{SM $\\uparrow$}} & \\multicolumn{3}{|c|}{\\textbf{ICP $\\downarrow$}} & \\multicolumn{3}{c|}{\\textbf{IFN $\\downarrow$}} & \\multicolumn{3}{c|}{\\textbf{NED $\\downarrow$}} \\\\\n",
    "%\t\t\t\\cline{2-13}\n",
    "\t\t\t& \\textbf{L} & \\textbf{M} & \\textbf{H} & \\textbf{L} & \\textbf{M} & \\textbf{H} & \\textbf{L} & \\textbf{M} & \\textbf{H} & \\textbf{L} & \\textbf{M} & \\textbf{H}\\\\\n",
    "\t\t\t\\hline'''\n",
    "table_tail = r'''\t\t\\hline\n",
    "\t\t\\end{tabular}\n",
    "\t\t\\caption{ JPetStore }\n",
    "\t\\end{table}'''"
   ]
  },
  {
   "cell_type": "code",
   "execution_count": 6,
   "metadata": {},
   "outputs": [
    {
     "name": "stdout",
     "output_type": "stream",
     "text": [
      "\t\\begin{table}[ht]\n",
      "\t\t\\centering\n",
      "\t\t\\begin{tabular}{|l|ccc|ccc|ccc|ccc|}\n",
      "\t\t\t\\hline\n",
      "\t\t\t\\multirow{2}{*}{\\textbf{features}} & \\multicolumn{3}{c}{\\textbf{SM $\\uparrow$}} & \\multicolumn{3}{|c|}{\\textbf{ICP $\\downarrow$}} & \\multicolumn{3}{c|}{\\textbf{IFN $\\uparrow$}} & \\multicolumn{3}{c|}{\\textbf{NED $\\downarrow$}} \\\\\n",
      "%\t\t\t\\cline{2-13}\n",
      "\t\t\t& \\textbf{L} & \\textbf{M} & \\textbf{H} & \\textbf{L} & \\textbf{M} & \\textbf{H} & \\textbf{L} & \\textbf{M} & \\textbf{H} & \\textbf{L} & \\textbf{M} & \\textbf{H}\\\\\n",
      "\t\t\t\\hline\n",
      "unixcoder & 0.130 & 0.102 & 0.086 & \\textbf{0.078} & \\textbf{0.120} & 0.173 & \\textbf{0.000} & 0.056 & \\textbf{0.071} & \\textbf{0.547} & \\textbf{0.448} & \\textbf{0.442}\\\\\n",
      "structural & 0.112 & 0.082 & 0.188 & 0.094 & 0.129 & \\textbf{0.000} & 0.100 & \\textbf{0.000} & 0.333 & 0.965 & 0.847 & 1.000\\\\\n",
      "combined & \\textbf{0.146} & \\textbf{0.136} & \\textbf{0.198} & 0.089 & 0.137 & 0.214 & 0.100 & 0.056 & 0.071 & 0.828 & 0.641 & 0.524\\\\\n",
      "\t\t\\hline\n",
      "\t\t\\end{tabular}\n",
      "\t\t\\caption{ JPetStore }\n",
      "\t\\end{table}\n"
     ]
    }
   ],
   "source": [
    "print(table_head)\n",
    "for method in sims:\n",
    "\tline = method\n",
    "\tfor metric in metrics:\n",
    "\t\tfor n_clusters in cluster_sizes:\n",
    "\t\t\tif (n_clusters, metric, method) in bests:\n",
    "\t\t\t\tline += f\" & \\\\textbf{{{results[method][n_clusters][metric]:.3f}}}\"\n",
    "\t\t\telse:\n",
    "\t\t\t\tline += f\" & {results[method][n_clusters][metric]:.3f}\"\n",
    "\tline += r\"\\\\\"\n",
    "\tprint(line)\n",
    "print(table_tail)"
   ]
  },
  {
   "cell_type": "code",
   "execution_count": null,
   "metadata": {},
   "outputs": [],
   "source": []
  }
 ],
 "metadata": {
  "kernelspec": {
   "display_name": "vnv",
   "language": "python",
   "name": "python3"
  },
  "language_info": {
   "codemirror_mode": {
    "name": "ipython",
    "version": 3
   },
   "file_extension": ".py",
   "mimetype": "text/x-python",
   "name": "python",
   "nbconvert_exporter": "python",
   "pygments_lexer": "ipython3",
   "version": "3.13.3"
  }
 },
 "nbformat": 4,
 "nbformat_minor": 2
}
