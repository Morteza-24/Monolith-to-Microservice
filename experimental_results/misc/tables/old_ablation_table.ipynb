{
 "cells": [
  {
   "cell_type": "code",
   "execution_count": 1,
   "metadata": {},
   "outputs": [],
   "source": [
    "import pandas as pd\n",
    "import json"
   ]
  },
  {
   "cell_type": "code",
   "execution_count": 2,
   "metadata": {},
   "outputs": [],
   "source": [
    "results = {}\n",
    "projects = [\"JPetStore\", \"DayTrader\", \"AcmeAir\", \"Plants\"]\n",
    "methods = [\"Mo2oM\", \"Mono2Multi\", \"Mo2oM_HardClustering\", \"Mo2oM_TFIDF\"]\n",
    "method_names = {\"Mo2oM\": \"UniXcoder with GNN-based Soft Clustering\",\n",
    "\t\t\t\t\"Mono2Multi\": \"UniXcoder with Distance-Based Soft Clustering\",\n",
    "\t\t\t\t\"Mo2oM_HardClustering\": \"UniXcoder with GNN-based Hard Clustering\",\n",
    "\t\t\t\t\"Mo2oM_TFIDF\": \"TF-IDF with GNN-based Soft Clustering\"}\n",
    "metrics = [\"SM\", \"ICP\", \"IFN\", \"NED\"]\n",
    "metrics_sign = {\"SM\": 1, \"ICP\": -1, \"IFN\": -1, \"NED\": -1}\n",
    "for project in projects:\n",
    "\tresults[project] = {}\n",
    "\tfor method in methods:\n",
    "\t\tresults[project][method] = {}\n",
    "\t\twith open(f\"../results/{method}/{method}_{project}.json\", \"r\") as f:\n",
    "\t\t\tdata = json.load(f)\n",
    "\t\t\tdf = pd.DataFrame(data)\n",
    "\t\t\tfor metric in metrics:\n",
    "\t\t\t\t\tresults[project][method][metric] = df[metric].mean()"
   ]
  },
  {
   "cell_type": "code",
   "execution_count": 3,
   "metadata": {},
   "outputs": [],
   "source": [
    "bests = []\n",
    "for project in results:\n",
    "\tfor metric in metrics:\n",
    "\t\tbest_method = None\n",
    "\t\tbest_metric = float('-inf') * metrics_sign[metric]\n",
    "\t\tfor method in methods:\n",
    "\t\t\tif metrics_sign[metric] == 1:\n",
    "\t\t\t\tif results[project][method][metric] > best_metric:\n",
    "\t\t\t\t\tbest_metric = results[project][method][metric]\n",
    "\t\t\t\t\tbest_method = method\n",
    "\t\t\telse:\n",
    "\t\t\t\tif results[project][method][metric] < best_metric:\n",
    "\t\t\t\t\tbest_metric = results[project][method][metric]\n",
    "\t\t\t\t\tbest_method = method\n",
    "\t\tbests.append((project, metric, best_method))"
   ]
  },
  {
   "cell_type": "code",
   "execution_count": 4,
   "metadata": {},
   "outputs": [
    {
     "data": {
      "text/plain": [
       "[('JPetStore', 'SM', 'Mo2oM_TFIDF'),\n",
       " ('JPetStore', 'ICP', 'Mo2oM'),\n",
       " ('JPetStore', 'IFN', 'Mo2oM'),\n",
       " ('JPetStore', 'NED', 'Mo2oM_HardClustering'),\n",
       " ('DayTrader', 'SM', 'Mo2oM_TFIDF'),\n",
       " ('DayTrader', 'ICP', 'Mo2oM_TFIDF'),\n",
       " ('DayTrader', 'IFN', 'Mo2oM_TFIDF'),\n",
       " ('DayTrader', 'NED', 'Mono2Multi'),\n",
       " ('AcmeAir', 'SM', 'Mono2Multi'),\n",
       " ('AcmeAir', 'ICP', 'Mo2oM'),\n",
       " ('AcmeAir', 'IFN', 'Mo2oM'),\n",
       " ('AcmeAir', 'NED', 'Mo2oM_HardClustering'),\n",
       " ('Plants', 'SM', 'Mo2oM'),\n",
       " ('Plants', 'ICP', 'Mo2oM'),\n",
       " ('Plants', 'IFN', 'Mo2oM_TFIDF'),\n",
       " ('Plants', 'NED', 'Mono2Multi')]"
      ]
     },
     "execution_count": 4,
     "metadata": {},
     "output_type": "execute_result"
    }
   ],
   "source": [
    "bests"
   ]
  },
  {
   "cell_type": "code",
   "execution_count": 33,
   "metadata": {},
   "outputs": [],
   "source": [
    "table_head = r'''\t\\begin{table}[ht]\n",
    "\t\t\\centering\n",
    "\t\t\\begin{tabular}{lcccccccccccccccccccc}\n",
    "\t\t\t\\hline\n",
    "\t\t\t& \\multicolumn{16}{c}{\\textbf{Projects}} \\\\\n",
    "\t\t\t\\cline{2-17}\n",
    "\t\t\t& \\multicolumn{4}{c}{\\textbf{JPetStore}} & \\multicolumn{4}{c}{\\textbf{DayTrader}} & \\multicolumn{4}{c}{\\textbf{AcmeAir}} & \\multicolumn{4}{c}{\\textbf{Plants}} \\\\\n",
    "\t\t\t\\cline{2-17}\n",
    "\t\t\t\\textbf{Model} & \\textbf{SM} & \\textbf{ICP} & \\textbf{IFN} & \\textbf{NED} & \\textbf{SM} & \\textbf{ICP} & \\textbf{IFN} & \\textbf{NED} & \\textbf{SM} & \\textbf{ICP} & \\textbf{IFN} & \\textbf{NED} & \\textbf{SM} & \\textbf{ICP} & \\textbf{IFN} & \\textbf{NED} \\\\\n",
    "\t\t\t\\hline'''\n",
    "table_tail = r'''\t\t\\end{tabular}\n",
    "\t\\end{table}\n",
    "'''"
   ]
  },
  {
   "cell_type": "code",
   "execution_count": 35,
   "metadata": {},
   "outputs": [
    {
     "name": "stdout",
     "output_type": "stream",
     "text": [
      "\t\\begin{table}[ht]\n",
      "\t\t\\centering\n",
      "\t\t\\begin{tabular}{lcccccccccccccccccccc}\n",
      "\t\t\t\\hline\n",
      "\t\t\t& \\multicolumn{16}{c}{\\textbf{Projects}} \\\\\n",
      "\t\t\t\\cline{2-17}\n",
      "\t\t\t& \\multicolumn{4}{c}{\\textbf{JPetStore}} & \\multicolumn{4}{c}{\\textbf{DayTrader}} & \\multicolumn{4}{c}{\\textbf{AcmeAir}} & \\multicolumn{4}{c}{\\textbf{Plants}} \\\\\n",
      "\t\t\t\\cline{2-17}\n",
      "\t\t\t\\textbf{Model} & \\textbf{SM} & \\textbf{ICP} & \\textbf{IFN} & \\textbf{NED} & \\textbf{SM} & \\textbf{ICP} & \\textbf{IFN} & \\textbf{NED} & \\textbf{SM} & \\textbf{ICP} & \\textbf{IFN} & \\textbf{NED} & \\textbf{SM} & \\textbf{ICP} & \\textbf{IFN} & \\textbf{NED} \\\\\n",
      "\t\t\t\\hline\n",
      "UniXcoder with GNN-based Soft Clustering & 0.138 & \\textbf{0.102} & \\textbf{0.224} & 0.556 & 0.328 & 0.101 & \\textbf{0.295} & 0.650 & 0.154 & \\textbf{0.077} & \\textbf{0.125} & 0.404 & \\textbf{0.589} & \\textbf{0.076} & 0.760 & 0.344\\\\\n",
      "UniXcoder with Distance-Based Soft Clustering & 0.124 & 0.380 & 0.783 & 0.321 & 0.159 & 0.444 & 0.857 & \\textbf{0.321} & \\textbf{0.178} & 0.236 & 0.838 & 0.325 & 0.562 & 0.189 & 1.134 & \\textbf{0.277}\\\\\n",
      "UniXcoder with GNN-based Hard Clustering & 0.063 & 0.459 & 1.458 & \\textbf{0.304} & 0.087 & 0.458 & 1.544 & 0.643 & 0.125 & 0.344 & 1.762 & \\textbf{0.306} & -0.022 & 0.446 & 2.792 & 0.285\\\\\n",
      "TF-IDF with GNN-based Soft Clustering & \\textbf{0.159} & 0.112 & 0.331 & 0.585 & \\textbf{0.353} & \\textbf{0.097} & 0.343 & 0.649 & 0.152 & 0.097 & 0.416 & 0.426 & 0.451 & 0.100 & \\textbf{0.600} & 0.449\\\\\n",
      "\t\t\\end{tabular}\n",
      "\t\\end{table}\n",
      "\n"
     ]
    }
   ],
   "source": [
    "print(table_head)\n",
    "for method in methods:\n",
    "\tline = method_names[method]\n",
    "\tfor project in projects:\n",
    "\t\tfor metric in metrics:\n",
    "\t\t\tif (project, metric, method) in bests:\n",
    "\t\t\t\tline += f\" & \\\\textbf{{{results[project][method][metric]:.3f}}}\"\n",
    "\t\t\telse:\n",
    "\t\t\t\tline += f\" & {results[project][method][metric]:.3f}\"\n",
    "\tline += r\"\\\\\"\n",
    "\tprint(line)\n",
    "print(table_tail)"
   ]
  },
  {
   "cell_type": "code",
   "execution_count": 6,
   "metadata": {},
   "outputs": [],
   "source": [
    "explanation = {\n",
    "\t\"SM\": \" (higher is better)\",\n",
    "\t\"ICP\": \" (lower is better)\",\n",
    "\t\"IFN\": \" (lower is better)\",\n",
    "\t\"NED\": \" (lower is better)\"\n",
    "}"
   ]
  },
  {
   "cell_type": "code",
   "execution_count": 7,
   "metadata": {},
   "outputs": [],
   "source": [
    "table_head = r'''\\begin{table}[ht]\n",
    "\t\\centering\n",
    "\t\\begin{tabular}{lcccc}\n",
    "\t\t\\hline\n",
    "\t\t& \\multicolumn{4}{c}{\\textbf{Projects}} \\\\\n",
    "\t\t\\cline{2-5}\n",
    "\t\t\\textbf{Model} & \\textbf{JPetStore} & \\textbf{DayTrader} & \\textbf{AcmeAir} & \\textbf{Plants} \\\\\n",
    "\t\t\\hline'''\n",
    "table_tail = r'''\t\t\\hline\n",
    "\t\\end{tabular}\n",
    "\t\\caption{Model performance on different projects (mean, median ± variance).}\n",
    "\t\\label{tab:model-performance-metric}\n",
    "\\end{table}'''"
   ]
  },
  {
   "cell_type": "code",
   "execution_count": 8,
   "metadata": {},
   "outputs": [
    {
     "name": "stdout",
     "output_type": "stream",
     "text": [
      "\\center{\\textbf{SM,  (higher is better)}}\n",
      "\n",
      "\\begin{table}[ht]\n",
      "\t\\centering\n",
      "\t\\begin{tabular}{lcccc}\n",
      "\t\t\\hline\n",
      "\t\t& \\multicolumn{4}{c}{\\textbf{Projects}} \\\\\n",
      "\t\t\\cline{2-5}\n",
      "\t\t\\textbf{Model} & \\textbf{JPetStore} & \\textbf{DayTrader} & \\textbf{AcmeAir} & \\textbf{Plants} \\\\\n",
      "\t\t\\hline\n",
      "TF-IDF with GNN-based Soft Clustering & \\textbf{0.159} & \\textbf{0.353} & 0.152 & 0.451\\\\\n",
      "UniXcoder with GNN-based Hard Clustering & 0.063 & 0.087 & 0.125 & -0.022\\\\\n",
      "UniXcoder with Distance-Based Soft Clustering & 0.124 & 0.159 & \\textbf{0.178} & 0.562\\\\\n",
      "UniXcoder with GNN-based Soft Clustering & 0.148 & 0.339 & 0.160 & \\textbf{0.579}\\\\\n",
      "\t\t\\hline\n",
      "\t\\end{tabular}\n",
      "\t\\caption{Model performance on different projects (mean, median ± variance).}\n",
      "\t\\label{tab:model-performance-SM}\n",
      "\\end{table}\n",
      "\n",
      "\\center{\\textbf{ICP,  (lower is better)}}\n",
      "\n",
      "\\begin{table}[ht]\n",
      "\t\\centering\n",
      "\t\\begin{tabular}{lcccc}\n",
      "\t\t\\hline\n",
      "\t\t& \\multicolumn{4}{c}{\\textbf{Projects}} \\\\\n",
      "\t\t\\cline{2-5}\n",
      "\t\t\\textbf{Model} & \\textbf{JPetStore} & \\textbf{DayTrader} & \\textbf{AcmeAir} & \\textbf{Plants} \\\\\n",
      "\t\t\\hline\n",
      "TF-IDF with GNN-based Soft Clustering & 0.112 & \\textbf{0.097} & 0.097 & 0.100\\\\\n",
      "UniXcoder with GNN-based Hard Clustering & 0.459 & 0.458 & 0.344 & 0.446\\\\\n",
      "UniXcoder with Distance-Based Soft Clustering & 0.380 & 0.444 & 0.236 & 0.189\\\\\n",
      "UniXcoder with GNN-based Soft Clustering & \\textbf{0.109} & 0.107 & \\textbf{0.083} & \\textbf{0.091}\\\\\n",
      "\t\t\\hline\n",
      "\t\\end{tabular}\n",
      "\t\\caption{Model performance on different projects (mean, median ± variance).}\n",
      "\t\\label{tab:model-performance-ICP}\n",
      "\\end{table}\n",
      "\n",
      "\\center{\\textbf{IFN,  (lower is better)}}\n",
      "\n",
      "\\begin{table}[ht]\n",
      "\t\\centering\n",
      "\t\\begin{tabular}{lcccc}\n",
      "\t\t\\hline\n",
      "\t\t& \\multicolumn{4}{c}{\\textbf{Projects}} \\\\\n",
      "\t\t\\cline{2-5}\n",
      "\t\t\\textbf{Model} & \\textbf{JPetStore} & \\textbf{DayTrader} & \\textbf{AcmeAir} & \\textbf{Plants} \\\\\n",
      "\t\t\\hline\n",
      "TF-IDF with GNN-based Soft Clustering & 0.331 & \\textbf{0.343} & 0.416 & \\textbf{0.600}\\\\\n",
      "UniXcoder with GNN-based Hard Clustering & 1.458 & 1.544 & 1.762 & 2.792\\\\\n",
      "UniXcoder with Distance-Based Soft Clustering & 0.783 & 0.857 & 0.838 & 1.134\\\\\n",
      "UniXcoder with GNN-based Soft Clustering & \\textbf{0.312} & 0.430 & \\textbf{0.201} & 1.013\\\\\n",
      "\t\t\\hline\n",
      "\t\\end{tabular}\n",
      "\t\\caption{Model performance on different projects (mean, median ± variance).}\n",
      "\t\\label{tab:model-performance-IFN}\n",
      "\\end{table}\n",
      "\n",
      "\\center{\\textbf{NED,  (lower is better)}}\n",
      "\n",
      "\\begin{table}[ht]\n",
      "\t\\centering\n",
      "\t\\begin{tabular}{lcccc}\n",
      "\t\t\\hline\n",
      "\t\t& \\multicolumn{4}{c}{\\textbf{Projects}} \\\\\n",
      "\t\t\\cline{2-5}\n",
      "\t\t\\textbf{Model} & \\textbf{JPetStore} & \\textbf{DayTrader} & \\textbf{AcmeAir} & \\textbf{Plants} \\\\\n",
      "\t\t\\hline\n",
      "TF-IDF with GNN-based Soft Clustering & 0.585 & 0.649 & 0.426 & 0.449\\\\\n",
      "UniXcoder with GNN-based Hard Clustering & \\textbf{0.304} & 0.643 & \\textbf{0.306} & 0.285\\\\\n",
      "UniXcoder with Distance-Based Soft Clustering & 0.321 & \\textbf{0.321} & 0.325 & \\textbf{0.277}\\\\\n",
      "UniXcoder with GNN-based Soft Clustering & 0.541 & 0.657 & 0.390 & 0.303\\\\\n",
      "\t\t\\hline\n",
      "\t\\end{tabular}\n",
      "\t\\caption{Model performance on different projects (mean, median ± variance).}\n",
      "\t\\label{tab:model-performance-NED}\n",
      "\\end{table}\n",
      "\n"
     ]
    }
   ],
   "source": [
    "for metric in metrics:\n",
    "\tprint(f\"\\\\center{{\\\\textbf{{{metric}, {explanation[metric]}}}}}\")\n",
    "\tprint()\n",
    "\tprint(table_head)\n",
    "\tmethod_results = []\n",
    "\tfor method in reversed(methods):\n",
    "\t\tline = method_names[method]\n",
    "\t\tfor project in projects:\n",
    "\t\t\tif (project, metric, method) in bests:\n",
    "\t\t\t\tline += f\" & \\\\textbf{{{results[project][method][metric]:.3f}}}\"\n",
    "\t\t\telse:\n",
    "\t\t\t\tline += f\" & {results[project][method][metric]:.3f}\"\n",
    "\t\tline += r\"\\\\\"\n",
    "\t\tprint(line)\n",
    "\tprint(table_tail.replace(\"metric\", metric))\n",
    "\tprint()"
   ]
  },
  {
   "cell_type": "code",
   "execution_count": null,
   "metadata": {},
   "outputs": [],
   "source": []
  }
 ],
 "metadata": {
  "kernelspec": {
   "display_name": "vnv",
   "language": "python",
   "name": "python3"
  },
  "language_info": {
   "codemirror_mode": {
    "name": "ipython",
    "version": 3
   },
   "file_extension": ".py",
   "mimetype": "text/x-python",
   "name": "python",
   "nbconvert_exporter": "python",
   "pygments_lexer": "ipython3",
   "version": "3.13.3"
  }
 },
 "nbformat": 4,
 "nbformat_minor": 2
}
