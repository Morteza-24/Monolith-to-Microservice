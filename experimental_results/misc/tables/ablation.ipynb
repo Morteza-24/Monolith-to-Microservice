{
 "cells": [
  {
   "cell_type": "code",
   "execution_count": 54,
   "metadata": {},
   "outputs": [],
   "source": [
    "from sklearn.preprocessing import normalize\n",
    "import pandas as pd\n",
    "import numpy as np\n",
    "import json"
   ]
  },
  {
   "cell_type": "code",
   "execution_count": 68,
   "metadata": {},
   "outputs": [],
   "source": [
    "cluster_sizes = \"high\""
   ]
  },
  {
   "cell_type": "code",
   "execution_count": 69,
   "metadata": {},
   "outputs": [],
   "source": [
    "projects = [\"JPetStore\", \"DayTrader\", \"AcmeAir\", \"Plants\"]\n",
    "methods = [\"Mo2oM_Full\", \"Mono2Multi_Full\", \"Mo2oM_HardClustering\", \"Mo2oM_TFIDF_Full\"]\n",
    "method_names = {\"Mo2oM_Full\": r\"\\textbf{UniXcoder + GNN Soft (ours)}\",\n",
    "\t\t\t\t\"Mono2Multi_Full\": \"UniXcoder + Distance Soft\",\n",
    "\t\t\t\t\"Mo2oM_HardClustering\": \"UniXcoder + GNN Hard\",\n",
    "\t\t\t\t\"Mo2oM_TFIDF_Full\": \"TF-IDF + GNN Soft\"}\n",
    "metrics = [\"SM\", \"ICP\", \"IFN\", \"NED\"]\n",
    "metrics_sign = {\"SM\": 1, \"ICP\": -1, \"IFN\": -1, \"NED\": -1}\n",
    "quartiles = {\"low\": 25, \"medium\": 50, \"high\": 75}\n",
    "q = quartiles[cluster_sizes]\n",
    "results = {}\n",
    "\n",
    "for project in projects:\n",
    "\tresults[project] = {}\n",
    "\tfor method in methods:\n",
    "\t\tresults[project][method] = {}\n",
    "\t\twith open(f\"../results/{method}/{method}_{project}.json\", \"r\") as f:\n",
    "\t\t\tdata = json.load(f)\n",
    "\t\t\tdf = pd.DataFrame(data).drop([\"microservices\"], axis=1)\n",
    "\t\t\tquartile = np.percentile(df[\"n_clusters\"], q)\n",
    "\t\t\tn_clusters = df[\"n_clusters\"][np.argmin(np.abs(df[\"n_clusters\"] - quartile))]\n",
    "\t\t\tdf = df[df[\"n_clusters\"] == n_clusters]\n",
    "\t\t\ts = normalize([df[\"SM\"].to_numpy()])\n",
    "\t\t\tfor metric in metrics[1:]:\n",
    "\t\t\t\ts -= normalize([df[metric].to_numpy()])\n",
    "\t\t\tidx = np.argmax(s)\n",
    "\t\t\tfor metric in metrics:\n",
    "\t\t\t\tresults[project][method][metric] = df[metric].iloc[idx]"
   ]
  },
  {
   "cell_type": "code",
   "execution_count": 70,
   "metadata": {},
   "outputs": [],
   "source": [
    "bests = []\n",
    "for project in results:\n",
    "\tfor metric in metrics:\n",
    "\t\tbest_method = None\n",
    "\t\tbest_metric = float('-inf') * metrics_sign[metric]\n",
    "\t\tfor method in methods:\n",
    "\t\t\tif metrics_sign[metric] == 1:\n",
    "\t\t\t\tif results[project][method][metric] > best_metric:\n",
    "\t\t\t\t\tbest_metric = results[project][method][metric]\n",
    "\t\t\t\t\tbest_method = method\n",
    "\t\t\telse:\n",
    "\t\t\t\tif results[project][method][metric] < best_metric:\n",
    "\t\t\t\t\tbest_metric = results[project][method][metric]\n",
    "\t\t\t\t\tbest_method = method\n",
    "\t\tbests.append((project, metric, best_method))"
   ]
  },
  {
   "cell_type": "code",
   "execution_count": 71,
   "metadata": {},
   "outputs": [
    {
     "data": {
      "text/plain": [
       "[('JPetStore', 'SM', 'Mono2Multi_Full'),\n",
       " ('JPetStore', 'ICP', 'Mo2oM_Full'),\n",
       " ('JPetStore', 'IFN', 'Mo2oM_Full'),\n",
       " ('JPetStore', 'NED', 'Mono2Multi_Full'),\n",
       " ('DayTrader', 'SM', 'Mono2Multi_Full'),\n",
       " ('DayTrader', 'ICP', 'Mo2oM_Full'),\n",
       " ('DayTrader', 'IFN', 'Mo2oM_Full'),\n",
       " ('DayTrader', 'NED', 'Mo2oM_HardClustering'),\n",
       " ('AcmeAir', 'SM', 'Mono2Multi_Full'),\n",
       " ('AcmeAir', 'ICP', 'Mo2oM_Full'),\n",
       " ('AcmeAir', 'IFN', 'Mo2oM_Full'),\n",
       " ('AcmeAir', 'NED', 'Mono2Multi_Full'),\n",
       " ('Plants', 'SM', 'Mono2Multi_Full'),\n",
       " ('Plants', 'ICP', 'Mo2oM_Full'),\n",
       " ('Plants', 'IFN', 'Mo2oM_Full'),\n",
       " ('Plants', 'NED', 'Mono2Multi_Full')]"
      ]
     },
     "execution_count": 71,
     "metadata": {},
     "output_type": "execute_result"
    }
   ],
   "source": [
    "bests"
   ]
  },
  {
   "cell_type": "code",
   "execution_count": 72,
   "metadata": {},
   "outputs": [],
   "source": [
    "table_head = r'''\t\\begin{table}[ht]\n",
    "\t\t\\centering\n",
    "\t\t\\begin{tabular}{|l|c|c|c|c|}\n",
    "\t\t\t\\hline\n",
    "\t\t\t\\rowcolor{gray!20} % Now light gray (previously our method's color)\n",
    "\t\t\t\\rule{0pt}{14pt}\n",
    "\t\t\t\\textbf{Method} & \\textbf{SM $\\uparrow$} & \\textbf{ICP $\\downarrow$} & \\textbf{IFN $\\uparrow$} & \\textbf{NED $\\downarrow$} \\\\'''\n",
    "table_tail = r'''\t\t\\end{tabular}\n",
    "\t\\end{table}'''"
   ]
  },
  {
   "cell_type": "code",
   "execution_count": 74,
   "metadata": {},
   "outputs": [
    {
     "name": "stdout",
     "output_type": "stream",
     "text": [
      "\t\\begin{table}[ht]\n",
      "\t\t\\centering\n",
      "\t\t\\begin{tabular}{|l|c|c|c|c|}\n",
      "\t\t\t\\hline\n",
      "\t\t\t\\rowcolor{gray!20} % Now light gray (previously our method's color)\n",
      "\t\t\t\\rule{0pt}{14pt}\n",
      "\t\t\t\\textbf{Method} & \\textbf{SM $\\uparrow$} & \\textbf{ICP $\\downarrow$} & \\textbf{IFN $\\uparrow$} & \\textbf{NED $\\downarrow$} \\\\\n",
      "\\hline\n",
      "\\multicolumn{5}{|c|}{\\multirow{2}{*}{\\textbf{JPetStore}}} \\\\\n",
      "\\multicolumn{5}{|c|}{} \\\\\n",
      "\\hline\n",
      "TF-IDF + GNN Soft & 0.136 & 0.132 & 0.036 & 0.379\\\\\n",
      "UniXcoder + GNN Hard & 0.056 & 0.482 & 0.643 & 0.205\\\\\n",
      "UniXcoder + Distance Soft & \\textbf{0.293} & 0.402 & 0.500 & \\textbf{0.055}\\\\\n",
      "\\hline\n",
      "\\rowcolor{yellow!15}\n",
      "\\textbf{UniXcoder + GNN Soft (ours)} & 0.259 & \\textbf{0.043} & \\textbf{0.036} & 0.550\\\\\n",
      "\\hline\n",
      "\\hline\n",
      "\\multicolumn{5}{|c|}{\\multirow{2}{*}{\\textbf{DayTrader}}} \\\\\n",
      "\\multicolumn{5}{|c|}{} \\\\\n",
      "\\hline\n",
      "TF-IDF + GNN Soft & 0.204 & 0.148 & 0.071 & 0.458\\\\\n",
      "UniXcoder + GNN Hard & 0.103 & 0.451 & 0.600 & \\textbf{0.407}\\\\\n",
      "UniXcoder + Distance Soft & \\textbf{0.860} & 0.592 & 0.595 & 0.450\\\\\n",
      "\\hline\n",
      "\\rowcolor{yellow!15}\n",
      "\\textbf{UniXcoder + GNN Soft (ours)} & 0.535 & \\textbf{0.096} & \\textbf{0.024} & 0.522\\\\\n",
      "\\hline\n",
      "\\hline\n",
      "\\multicolumn{5}{|c|}{\\multirow{2}{*}{\\textbf{AcmeAir}}} \\\\\n",
      "\\multicolumn{5}{|c|}{} \\\\\n",
      "\\hline\n",
      "TF-IDF + GNN Soft & 0.081 & 0.133 & 0.154 & 0.243\\\\\n",
      "UniXcoder + GNN Hard & 0.089 & 0.241 & 0.692 & 0.382\\\\\n",
      "UniXcoder + Distance Soft & \\textbf{0.317} & 0.217 & 0.731 & \\textbf{0.080}\\\\\n",
      "\\hline\n",
      "\\rowcolor{yellow!15}\n",
      "\\textbf{UniXcoder + GNN Soft (ours)} & 0.122 & \\textbf{0.058} & \\textbf{0.000} & 0.483\\\\\n",
      "\\hline\n",
      "\\hline\n",
      "\\multicolumn{5}{|c|}{\\multirow{2}{*}{\\textbf{Plants}}} \\\\\n",
      "\\multicolumn{5}{|c|}{} \\\\\n",
      "\\hline\n",
      "TF-IDF + GNN Soft & 0.621 & 0.136 & 0.643 & 0.082\\\\\n",
      "UniXcoder + GNN Hard & -0.165 & 0.499 & 1.615 & 0.351\\\\\n",
      "UniXcoder + Distance Soft & \\textbf{1.105} & 0.235 & 1.000 & \\textbf{0.000}\\\\\n",
      "\\hline\n",
      "\\rowcolor{yellow!15}\n",
      "\\textbf{UniXcoder + GNN Soft (ours)} & 0.464 & \\textbf{0.089} & \\textbf{0.071} & 0.430\\\\\n",
      "\\hline\n",
      "\t\t\\end{tabular}\n",
      "\t\\end{table}\n"
     ]
    }
   ],
   "source": [
    "print(table_head)\n",
    "for project in projects:\n",
    "\tprint(r\"\\hline\")\n",
    "\tprint(f\"\\\\multicolumn{{5}}{{|c|}}{{\\\\multirow{{2}}{{*}}{{\\\\textbf{{{project}}}}}}} \\\\\\\\\") \n",
    "\tprint(r\"\\multicolumn{5}{|c|}{} \\\\\")\n",
    "\tprint(r\"\\hline\")\n",
    "\tfor method in reversed(methods):\n",
    "\t\tline = method_names[method]\n",
    "\t\tfor metric in metrics:\n",
    "\t\t\tif (project, metric, method) in bests:\n",
    "\t\t\t\tline += f\" & \\\\textbf{{{results[project][method][metric]:.3f}}}\"\n",
    "\t\t\telse:\n",
    "\t\t\t\tline += f\" & {results[project][method][metric]:.3f}\"\n",
    "\t\tline += r\"\\\\\"\n",
    "\t\tif method == \"Mo2oM_Full\":\n",
    "\t\t\tprint(r\"\\hline\")\n",
    "\t\t\tprint(r\"\\rowcolor{yellow!15}\")\n",
    "\t\t\tprint(line)\n",
    "\t\t\tprint(r\"\\hline\")\n",
    "\t\telse:\n",
    "\t\t\tprint(line)\n",
    "print(table_tail)"
   ]
  },
  {
   "cell_type": "code",
   "execution_count": null,
   "metadata": {},
   "outputs": [],
   "source": []
  }
 ],
 "metadata": {
  "kernelspec": {
   "display_name": "vnv",
   "language": "python",
   "name": "python3"
  },
  "language_info": {
   "codemirror_mode": {
    "name": "ipython",
    "version": 3
   },
   "file_extension": ".py",
   "mimetype": "text/x-python",
   "name": "python",
   "nbconvert_exporter": "python",
   "pygments_lexer": "ipython3",
   "version": "3.13.3"
  }
 },
 "nbformat": 4,
 "nbformat_minor": 2
}
