{
 "cells": [
  {
   "cell_type": "code",
   "execution_count": 2,
   "metadata": {},
   "outputs": [],
   "source": [
    "from sklearn.preprocessing import normalize\n",
    "import pandas as pd\n",
    "import numpy as np\n",
    "import json"
   ]
  },
  {
   "cell_type": "code",
   "execution_count": 25,
   "metadata": {},
   "outputs": [
    {
     "name": "stdout",
     "output_type": "stream",
     "text": [
      "\\begin{table}[ht]\n",
      "\\centering\n",
      "\\begin{tabular}{lrrrrrr}\n",
      "\\toprule\n",
      " & min\\_samples & n\\_clusters & SM & ICP & IFN & NED \\\\\n",
      "\\midrule\n",
      "0 & 1 & 10.000000 & 0.704321 & 0.082851 & 0.200000 & 0.260870 \\\\\n",
      "1 & 2 & 10.000000 & 0.816225 & 0.086424 & 0.750000 & 0.081081 \\\\\n",
      "2 & 3 & 10.000000 & 0.738095 & 0.086424 & 0.666667 & 0.031579 \\\\\n",
      "3 & 4 & 10.000000 & 0.685586 & 0.066570 & 0.777778 & 0.000000 \\\\\n",
      "4 & 5 & 10.000000 & 0.941507 & 0.066570 & 1.000000 & 0.000000 \\\\\n",
      "\\bottomrule\n",
      "\\end{tabular}\n",
      "\n",
      "\\caption{ Plants }\n",
      "\\end{table}\n"
     ]
    }
   ],
   "source": [
    "project = \"Plants\"\n",
    "method = \"New_Mo2oM_Full\"\n",
    "metrics = [\"SM\", \"ICP\", \"IFN\", \"NED\"]\n",
    "metrics_sign = {\"SM\": 1, \"ICP\": -1, \"IFN\": -1, \"NED\": -1}\n",
    "results = []\n",
    "\n",
    "with open(f\"../results/{method}/{method}_{project}.json\", \"r\") as f:\n",
    "\tdata = json.load(f)\n",
    "df = pd.DataFrame(data).drop([\"microservices\"], axis=1)\n",
    "n_clusters = df[\"n_clusters\"].unique()\n",
    "for min_samples in range(1, 6):\n",
    "\tthis_df = df[df[\"min_samples\"] == min_samples]\n",
    "\tfor n_cluster in n_clusters:\n",
    "\t\tn_cluster = int(n_cluster)\n",
    "\t\tthis_this_df = this_df[this_df[\"n_clusters\"] == n_cluster]\n",
    "\t\ts = normalize([this_this_df[\"SM\"].to_numpy()])\n",
    "\t\tfor metric in metrics[1:]:\n",
    "\t\t\ts -= normalize([this_this_df[metric].to_numpy()])\n",
    "\t\tidx = np.argmax(s)\n",
    "\t\tnew_result = {\"min_samples\": min_samples, \"n_clusters\": n_cluster}\n",
    "\t\tfor metric in metrics:\n",
    "\t\t\tnew_result[metric] = this_this_df[metric].iloc[idx]\n",
    "\t\tresults.append(new_result)\n",
    "df = pd.DataFrame(results)\n",
    "df = df.groupby([\"min_samples\"], as_index=False).median()\n",
    "print(r\"\\begin{table}[ht]\")\n",
    "print(r\"\\centering\")\n",
    "print(df.to_latex().replace(\"_\", \"\\\\_\"))\n",
    "print(f\"\\\\caption{{ {project} }}\\n\\\\end{{table}}\")"
   ]
  },
  {
   "cell_type": "code",
   "execution_count": null,
   "metadata": {},
   "outputs": [],
   "source": []
  }
 ],
 "metadata": {
  "kernelspec": {
   "display_name": "vnv",
   "language": "python",
   "name": "python3"
  },
  "language_info": {
   "codemirror_mode": {
    "name": "ipython",
    "version": 3
   },
   "file_extension": ".py",
   "mimetype": "text/x-python",
   "name": "python",
   "nbconvert_exporter": "python",
   "pygments_lexer": "ipython3",
   "version": "3.13.3"
  }
 },
 "nbformat": 4,
 "nbformat_minor": 2
}
