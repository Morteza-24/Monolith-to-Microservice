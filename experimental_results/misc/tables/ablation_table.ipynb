{
 "cells": [
  {
   "cell_type": "code",
   "execution_count": 1,
   "metadata": {},
   "outputs": [],
   "source": [
    "import pandas as pd\n",
    "import json"
   ]
  },
  {
   "cell_type": "code",
   "execution_count": 46,
   "metadata": {},
   "outputs": [],
   "source": [
    "results = {}\n",
    "projects = [\"JPetStore\", \"DayTrader\", \"AcmeAir\", \"Plants\"]\n",
    "methods = [\"Mo2oM\", \"Mono2Multi\", \"Mo2oM_HardClustering\", \"Mo2oM_TFIDF\"]\n",
    "method_names = {\"Mo2oM\": r\"\\textbf{UniXcoder + GNN Soft (ours)}\",\n",
    "\t\t\t\t\"Mono2Multi\": \"UniXcoder + Distance Soft\",\n",
    "\t\t\t\t\"Mo2oM_HardClustering\": \"UniXcoder + GNN Hard\",\n",
    "\t\t\t\t\"Mo2oM_TFIDF\": \"TF-IDF + GNN Soft\"}\n",
    "metrics = [\"SM\", \"ICP\", \"IFN\", \"NED\"]\n",
    "metrics_sign = {\"SM\": 1, \"ICP\": -1, \"IFN\": -1, \"NED\": -1}\n",
    "for project in projects:\n",
    "\tresults[project] = {}\n",
    "\tfor method in methods:\n",
    "\t\tresults[project][method] = {}\n",
    "\t\twith open(f\"../results/{method}/{method}_{project}.json\", \"r\") as f:\n",
    "\t\t\tdata = json.load(f)\n",
    "\t\t\tdf = pd.DataFrame(data)\n",
    "\t\t\tfor metric in metrics:\n",
    "\t\t\t\t\t# if metrics_sign[metric] == 1:\n",
    "\t\t\t\t\t# \tresults[project][method][metric] = df[metric].max()\n",
    "\t\t\t\t\t# else:\n",
    "\t\t\t\t\t# \tresults[project][method][metric] = df[metric].min()\n",
    "\t\t\t\t\tresults[project][method][metric] = df[metric].mean()"
   ]
  },
  {
   "cell_type": "code",
   "execution_count": 47,
   "metadata": {},
   "outputs": [],
   "source": [
    "bests = []\n",
    "for project in results:\n",
    "\tfor metric in metrics:\n",
    "\t\tbest_method = None\n",
    "\t\tbest_metric = float('-inf') * metrics_sign[metric]\n",
    "\t\tfor method in methods:\n",
    "\t\t\tif metrics_sign[metric] == 1:\n",
    "\t\t\t\tif results[project][method][metric] > best_metric:\n",
    "\t\t\t\t\tbest_metric = results[project][method][metric]\n",
    "\t\t\t\t\tbest_method = method\n",
    "\t\t\telse:\n",
    "\t\t\t\tif results[project][method][metric] < best_metric:\n",
    "\t\t\t\t\tbest_metric = results[project][method][metric]\n",
    "\t\t\t\t\tbest_method = method\n",
    "\t\tbests.append((project, metric, best_method))"
   ]
  },
  {
   "cell_type": "code",
   "execution_count": 48,
   "metadata": {},
   "outputs": [
    {
     "data": {
      "text/plain": [
       "[('JPetStore', 'SM', 'Mo2oM_TFIDF'),\n",
       " ('JPetStore', 'ICP', 'Mo2oM'),\n",
       " ('JPetStore', 'IFN', 'Mo2oM'),\n",
       " ('JPetStore', 'NED', 'Mo2oM_HardClustering'),\n",
       " ('DayTrader', 'SM', 'Mo2oM_TFIDF'),\n",
       " ('DayTrader', 'ICP', 'Mo2oM_TFIDF'),\n",
       " ('DayTrader', 'IFN', 'Mo2oM'),\n",
       " ('DayTrader', 'NED', 'Mono2Multi'),\n",
       " ('AcmeAir', 'SM', 'Mono2Multi'),\n",
       " ('AcmeAir', 'ICP', 'Mo2oM'),\n",
       " ('AcmeAir', 'IFN', 'Mo2oM'),\n",
       " ('AcmeAir', 'NED', 'Mo2oM_HardClustering'),\n",
       " ('Plants', 'SM', 'Mono2Multi'),\n",
       " ('Plants', 'ICP', 'Mo2oM'),\n",
       " ('Plants', 'IFN', 'Mo2oM_TFIDF'),\n",
       " ('Plants', 'NED', 'Mono2Multi')]"
      ]
     },
     "execution_count": 48,
     "metadata": {},
     "output_type": "execute_result"
    }
   ],
   "source": [
    "bests"
   ]
  },
  {
   "cell_type": "code",
   "execution_count": 49,
   "metadata": {},
   "outputs": [],
   "source": [
    "table_head = r'''\t\\begin{table}[ht]\n",
    "\t\t\\centering\n",
    "\t\t\\begin{tabular}{|l|c|c|c|c|}\n",
    "\t\t\t\\hline\n",
    "\t\t\t\\rowcolor{gray!20} % Now light gray (previously our method's color)\n",
    "\t\t\t\\rule{0pt}{14pt}\n",
    "\t\t\t\\textbf{Method} & \\textbf{SM $\\uparrow$} & \\textbf{ICP $\\downarrow$} & \\textbf{IFN $\\uparrow$} & \\textbf{NED $\\downarrow$} \\\\'''\n",
    "table_tail = r'''\t\t\\end{tabular}\n",
    "\t\\end{table}'''"
   ]
  },
  {
   "cell_type": "code",
   "execution_count": 50,
   "metadata": {},
   "outputs": [
    {
     "name": "stdout",
     "output_type": "stream",
     "text": [
      "\t\\begin{table}[ht]\n",
      "\t\t\\centering\n",
      "\t\t\\begin{tabular}{|l|c|c|c|c|}\n",
      "\t\t\t\\hline\n",
      "\t\t\t\\rowcolor{gray!20} % Now light gray (previously our method's color)\n",
      "\t\t\t\\rule{0pt}{14pt}\n",
      "\t\t\t\\textbf{Method} & \\textbf{SM $\\uparrow$} & \\textbf{ICP $\\downarrow$} & \\textbf{IFN $\\uparrow$} & \\textbf{NED $\\downarrow$} \\\\\n",
      "\\hline\n",
      "\\multicolumn{5}{|c|}{\\multirow{2}{*}{\\textbf{JPetStore}}} \\\\\n",
      "\\multicolumn{5}{|c|}{} \\\\\n",
      "\\hline\n",
      "TF-IDF + GNN Soft & \\textbf{0.169} & 0.125 & 0.430 & 0.563\\\\\n",
      "UniXcoder + GNN Hard & 0.063 & 0.459 & 1.458 & \\textbf{0.304}\\\\\n",
      "UniXcoder + Distance Soft & 0.129 & 0.373 & 0.768 & 0.320\\\\\n",
      "\\hline\n",
      "\\rowcolor{yellow!15}\n",
      "\\textbf{UniXcoder + GNN Soft (ours)} & 0.148 & \\textbf{0.109} & \\textbf{0.312} & 0.541\\\\\n",
      "\\hline\n",
      "\\hline\n",
      "\\multicolumn{5}{|c|}{\\multirow{2}{*}{\\textbf{DayTrader}}} \\\\\n",
      "\\multicolumn{5}{|c|}{} \\\\\n",
      "\\hline\n",
      "TF-IDF + GNN Soft & \\textbf{0.377} & \\textbf{0.107} & 0.435 & 0.638\\\\\n",
      "UniXcoder + GNN Hard & 0.087 & 0.458 & 1.544 & 0.643\\\\\n",
      "UniXcoder + Distance Soft & 0.170 & 0.441 & 0.855 & \\textbf{0.320}\\\\\n",
      "\\hline\n",
      "\\rowcolor{yellow!15}\n",
      "\\textbf{UniXcoder + GNN Soft (ours)} & 0.339 & 0.107 & \\textbf{0.430} & 0.657\\\\\n",
      "\\hline\n",
      "\\hline\n",
      "\\multicolumn{5}{|c|}{\\multirow{2}{*}{\\textbf{AcmeAir}}} \\\\\n",
      "\\multicolumn{5}{|c|}{} \\\\\n",
      "\\hline\n",
      "TF-IDF + GNN Soft & 0.160 & 0.102 & 0.512 & 0.413\\\\\n",
      "UniXcoder + GNN Hard & 0.125 & 0.344 & 1.762 & \\textbf{0.306}\\\\\n",
      "UniXcoder + Distance Soft & \\textbf{0.178} & 0.231 & 0.840 & 0.322\\\\\n",
      "\\hline\n",
      "\\rowcolor{yellow!15}\n",
      "\\textbf{UniXcoder + GNN Soft (ours)} & 0.160 & \\textbf{0.083} & \\textbf{0.201} & 0.390\\\\\n",
      "\\hline\n",
      "\\hline\n",
      "\\multicolumn{5}{|c|}{\\multirow{2}{*}{\\textbf{Plants}}} \\\\\n",
      "\\multicolumn{5}{|c|}{} \\\\\n",
      "\\hline\n",
      "TF-IDF + GNN Soft & 0.464 & 0.111 & \\textbf{0.766} & 0.436\\\\\n",
      "UniXcoder + GNN Hard & -0.022 & 0.446 & 2.792 & 0.285\\\\\n",
      "UniXcoder + Distance Soft & \\textbf{0.590} & 0.194 & 1.157 & \\textbf{0.282}\\\\\n",
      "\\hline\n",
      "\\rowcolor{yellow!15}\n",
      "\\textbf{UniXcoder + GNN Soft (ours)} & 0.579 & \\textbf{0.091} & 1.013 & 0.303\\\\\n",
      "\\hline\n",
      "\t\t\\end{tabular}\n",
      "\t\\end{table}\n"
     ]
    }
   ],
   "source": [
    "print(table_head)\n",
    "for project in projects:\n",
    "\tprint(r\"\\hline\")\n",
    "\tprint(f\"\\\\multicolumn{{5}}{{|c|}}{{\\\\multirow{{2}}{{*}}{{\\\\textbf{{{project}}}}}}} \\\\\\\\\") \n",
    "\tprint(r\"\\multicolumn{5}{|c|}{} \\\\\")\n",
    "\tprint(r\"\\hline\")\n",
    "\tfor method in reversed(methods):\n",
    "\t\tline = method_names[method]\n",
    "\t\tfor metric in metrics:\n",
    "\t\t\tif (project, metric, method) in bests:\n",
    "\t\t\t\tline += f\" & \\\\textbf{{{results[project][method][metric]:.3f}}}\"\n",
    "\t\t\telse:\n",
    "\t\t\t\tline += f\" & {results[project][method][metric]:.3f}\"\n",
    "\t\tline += r\"\\\\\"\n",
    "\t\tif method == \"Mo2oM\":\n",
    "\t\t\tprint(r\"\\hline\")\n",
    "\t\t\tprint(r\"\\rowcolor{yellow!15}\")\n",
    "\t\t\tprint(line)\n",
    "\t\t\tprint(r\"\\hline\")\n",
    "\t\telse:\n",
    "\t\t\tprint(line)\n",
    "print(table_tail)"
   ]
  },
  {
   "cell_type": "code",
   "execution_count": null,
   "metadata": {},
   "outputs": [],
   "source": []
  }
 ],
 "metadata": {
  "kernelspec": {
   "display_name": "vnv",
   "language": "python",
   "name": "python3"
  },
  "language_info": {
   "codemirror_mode": {
    "name": "ipython",
    "version": 3
   },
   "file_extension": ".py",
   "mimetype": "text/x-python",
   "name": "python",
   "nbconvert_exporter": "python",
   "pygments_lexer": "ipython3",
   "version": "3.13.3"
  }
 },
 "nbformat": 4,
 "nbformat_minor": 2
}
