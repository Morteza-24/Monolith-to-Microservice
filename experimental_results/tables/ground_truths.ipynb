{
 "cells": [
  {
   "cell_type": "code",
   "execution_count": 20,
   "id": "59e2bff3",
   "metadata": {},
   "outputs": [],
   "source": [
    "import json"
   ]
  },
  {
   "cell_type": "code",
   "execution_count": 21,
   "id": "ff44bf1c",
   "metadata": {},
   "outputs": [],
   "source": [
    "table_head = r'''\t\\begin{table}[ht]\n",
    "\t\t\\centering\n",
    "\t\t\\begin{tabular}{|c|cccc|}\n",
    "\t\t\t\\hline\n",
    "\t\t\t\\textbf{Project} & \\textbf{SM} $\\uparrow$ & \\textbf{ICP} $\\downarrow$ & \\textbf{IFN} $\\downarrow$ & \\textbf{NED} $\\downarrow$\\\\\n",
    "\t\t\t\\hline'''\n",
    "table_tail = r'''\t\t\t\\hline\n",
    "\t\t\\end{tabular}\n",
    "\t\t\\caption{Microservices-Based Projects (Ground Truths)}\n",
    "\t\\end{table}'''"
   ]
  },
  {
   "cell_type": "code",
   "execution_count": 22,
   "id": "1b466a7f",
   "metadata": {},
   "outputs": [],
   "source": [
    "metrics = [\"SM\", \"ICP\", \"IFN\", \"NED\"]\n",
    "ground_truths = ['PetClinic.json', 'AcmeAir.json', 'SocialSoftwareEdition.json', 'MicroservicesEventSourcing.json', 'KanbanBoard.json']\n",
    "lines = []\n",
    "\n",
    "for gt in ground_truths:\n",
    "\tline = 3*\"\\t\" + gt.split(\".\")[0] + \" & \"\n",
    "\twith open(f\"../results/GroundTruths/{gt}\", \"r\") as f:\n",
    "\t\tdata = json.load(f)\n",
    "\tline += \" & \".join([f\"{data[metric]:.3f}\" for metric in metrics]) + \"\\\\\\\\\"\n",
    "\tlines.append(line)"
   ]
  },
  {
   "cell_type": "code",
   "execution_count": 23,
   "id": "9b701613",
   "metadata": {},
   "outputs": [
    {
     "name": "stdout",
     "output_type": "stream",
     "text": [
      "\t\\begin{table}[ht]\n",
      "\t\t\\centering\n",
      "\t\t\\begin{tabular}{|c|cccc|}\n",
      "\t\t\t\\hline\n",
      "\t\t\t\\textbf{Project} & \\textbf{SM} $\\uparrow$ & \\textbf{ICP} $\\downarrow$ & \\textbf{IFN} $\\downarrow$ & \\textbf{NED} $\\downarrow$\\\\\n",
      "\t\t\t\\hline\n",
      "\t\t\tPetClinic & 0.065 & 0.402 & 1.250 & 0.102\\\\\n",
      "\t\t\tAcmeAir & 0.168 & 0.295 & 2.286 & 0.037\\\\\n",
      "\t\t\tSocialSoftwareEdition & 0.160 & 0.404 & 8.625 & 0.927\\\\\n",
      "\t\t\tMicroservicesEventSourcing & 0.018 & 0.198 & 0.500 & 0.265\\\\\n",
      "\t\t\tKanbanBoard & 0.051 & 0.628 & 1.091 & 0.254\\\\\n",
      "\t\t\t\\hline\n",
      "\t\t\\end{tabular}\n",
      "\t\t\\caption{Microservices-Based Projects (Ground Truths)}\n",
      "\t\\end{table}\n"
     ]
    }
   ],
   "source": [
    "print(table_head)\n",
    "print(*lines, sep=\"\\n\")\n",
    "print(table_tail)"
   ]
  },
  {
   "cell_type": "code",
   "execution_count": null,
   "id": "8642a080",
   "metadata": {},
   "outputs": [],
   "source": []
  }
 ],
 "metadata": {
  "kernelspec": {
   "display_name": "vnv",
   "language": "python",
   "name": "python3"
  },
  "language_info": {
   "codemirror_mode": {
    "name": "ipython",
    "version": 3
   },
   "file_extension": ".py",
   "mimetype": "text/x-python",
   "name": "python",
   "nbconvert_exporter": "python",
   "pygments_lexer": "ipython3",
   "version": "3.13.3"
  }
 },
 "nbformat": 4,
 "nbformat_minor": 5
}
